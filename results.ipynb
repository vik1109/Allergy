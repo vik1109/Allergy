{
 "cells": [
  {
   "cell_type": "markdown",
   "id": "efa1d94a",
   "metadata": {},
   "source": [
    "### Предсказание наличия аллергенов в городе по сообщениям пользователей группы VK"
   ]
  },
  {
   "cell_type": "markdown",
   "id": "75545e13",
   "metadata": {},
   "source": [
    "В рамках проекта обрабатываются сообщения пользователей из группы VK. На основании сообщений выделяются топонимы и классифицируются сообщения. Сообщения классифицируются как сообщение о факте наличия или отсутсвия аллергии у пользователя. На основе классификатора готовим карту городов, где пользователи сообщали о наличии аллергии. "
   ]
  },
  {
   "cell_type": "code",
   "execution_count": 43,
   "id": "4daf230b",
   "metadata": {
    "scrolled": false
   },
   "outputs": [
    {
     "data": {
      "application/vnd.jupyter.widget-view+json": {
       "model_id": "3cae2506cfe64370836d37a8b8351e60",
       "version_major": 2,
       "version_minor": 0
      },
      "text/plain": [
       "MetricVisualizer(layout=Layout(align_self='stretch', height='500px'))"
      ]
     },
     "metadata": {},
     "output_type": "display_data"
    },
    {
     "name": "stdout",
     "output_type": "stream",
     "text": [
      "0:\ttest: 0.8454687\tbest: 0.8454687 (0)\ttotal: 293ms\tremaining: 4m 52s\n",
      "3:\ttest: 0.8485417\tbest: 0.8485417 (3)\ttotal: 1.25s\tremaining: 5m 11s\n",
      "6:\ttest: 0.8734896\tbest: 0.8805208 (5)\ttotal: 2.22s\tremaining: 5m 14s\n",
      "9:\ttest: 0.8803125\tbest: 0.8886979 (8)\ttotal: 3.51s\tremaining: 5m 47s\n",
      "12:\ttest: 0.8766146\tbest: 0.8886979 (8)\ttotal: 4.61s\tremaining: 5m 49s\n",
      "15:\ttest: 0.8796875\tbest: 0.8886979 (8)\ttotal: 5.73s\tremaining: 5m 52s\n",
      "18:\ttest: 0.8855729\tbest: 0.8886979 (8)\ttotal: 6.75s\tremaining: 5m 48s\n",
      "21:\ttest: 0.8877604\tbest: 0.8895312 (19)\ttotal: 7.69s\tremaining: 5m 42s\n",
      "24:\ttest: 0.8872396\tbest: 0.8895312 (19)\ttotal: 8.63s\tremaining: 5m 36s\n",
      "27:\ttest: 0.8902604\tbest: 0.8909896 (26)\ttotal: 9.52s\tremaining: 5m 30s\n",
      "30:\ttest: 0.8966146\tbest: 0.8966146 (30)\ttotal: 10.5s\tremaining: 5m 26s\n",
      "33:\ttest: 0.8951562\tbest: 0.8966146 (30)\ttotal: 11.4s\tremaining: 5m 24s\n",
      "36:\ttest: 0.8973958\tbest: 0.8973958 (36)\ttotal: 12.6s\tremaining: 5m 26s\n",
      "39:\ttest: 0.8973437\tbest: 0.8973958 (36)\ttotal: 13.6s\tremaining: 5m 25s\n",
      "42:\ttest: 0.9017708\tbest: 0.9017708 (42)\ttotal: 14.7s\tremaining: 5m 28s\n",
      "45:\ttest: 0.9031250\tbest: 0.9031250 (45)\ttotal: 15.8s\tremaining: 5m 27s\n",
      "48:\ttest: 0.9054167\tbest: 0.9056771 (47)\ttotal: 16.8s\tremaining: 5m 25s\n",
      "51:\ttest: 0.9052083\tbest: 0.9056771 (47)\ttotal: 17.7s\tremaining: 5m 23s\n",
      "54:\ttest: 0.9056250\tbest: 0.9060417 (53)\ttotal: 18.8s\tremaining: 5m 23s\n",
      "57:\ttest: 0.9061458\tbest: 0.9061458 (57)\ttotal: 19.8s\tremaining: 5m 22s\n",
      "60:\ttest: 0.9061458\tbest: 0.9083333 (58)\ttotal: 20.8s\tremaining: 5m 20s\n",
      "63:\ttest: 0.9037500\tbest: 0.9083333 (58)\ttotal: 21.9s\tremaining: 5m 20s\n",
      "66:\ttest: 0.9061458\tbest: 0.9083333 (58)\ttotal: 23.3s\tremaining: 5m 24s\n",
      "69:\ttest: 0.9078125\tbest: 0.9083333 (58)\ttotal: 25.1s\tremaining: 5m 33s\n",
      "72:\ttest: 0.9069792\tbest: 0.9083333 (58)\ttotal: 26.2s\tremaining: 5m 32s\n",
      "75:\ttest: 0.9060417\tbest: 0.9083333 (58)\ttotal: 27.3s\tremaining: 5m 32s\n",
      "78:\ttest: 0.9057292\tbest: 0.9083333 (58)\ttotal: 28.3s\tremaining: 5m 30s\n",
      "81:\ttest: 0.9063542\tbest: 0.9083333 (58)\ttotal: 29.3s\tremaining: 5m 27s\n",
      "84:\ttest: 0.9063542\tbest: 0.9083333 (58)\ttotal: 30.2s\tremaining: 5m 25s\n",
      "87:\ttest: 0.9050000\tbest: 0.9083333 (58)\ttotal: 31.1s\tremaining: 5m 22s\n",
      "90:\ttest: 0.9064583\tbest: 0.9083333 (58)\ttotal: 32.1s\tremaining: 5m 20s\n",
      "93:\ttest: 0.9067708\tbest: 0.9083333 (58)\ttotal: 33.2s\tremaining: 5m 19s\n",
      "96:\ttest: 0.9078125\tbest: 0.9083333 (58)\ttotal: 34.3s\tremaining: 5m 19s\n",
      "99:\ttest: 0.9100000\tbest: 0.9100000 (99)\ttotal: 36.1s\tremaining: 5m 24s\n",
      "102:\ttest: 0.9102083\tbest: 0.9102083 (101)\ttotal: 37.3s\tremaining: 5m 24s\n",
      "105:\ttest: 0.9106250\tbest: 0.9112500 (104)\ttotal: 38.8s\tremaining: 5m 27s\n",
      "108:\ttest: 0.9092708\tbest: 0.9112500 (104)\ttotal: 39.8s\tremaining: 5m 25s\n",
      "111:\ttest: 0.9096875\tbest: 0.9112500 (104)\ttotal: 40.7s\tremaining: 5m 22s\n",
      "114:\ttest: 0.9098958\tbest: 0.9112500 (104)\ttotal: 42.1s\tremaining: 5m 23s\n",
      "117:\ttest: 0.9095833\tbest: 0.9112500 (104)\ttotal: 43.3s\tremaining: 5m 23s\n",
      "120:\ttest: 0.9091667\tbest: 0.9112500 (104)\ttotal: 44.5s\tremaining: 5m 22s\n",
      "123:\ttest: 0.9098958\tbest: 0.9112500 (104)\ttotal: 45.6s\tremaining: 5m 21s\n",
      "126:\ttest: 0.9098958\tbest: 0.9112500 (104)\ttotal: 46.7s\tremaining: 5m 21s\n",
      "129:\ttest: 0.9096875\tbest: 0.9112500 (104)\ttotal: 48.1s\tremaining: 5m 21s\n",
      "132:\ttest: 0.9096875\tbest: 0.9112500 (104)\ttotal: 49.2s\tremaining: 5m 20s\n",
      "135:\ttest: 0.9109375\tbest: 0.9112500 (104)\ttotal: 50.3s\tremaining: 5m 19s\n",
      "138:\ttest: 0.9086458\tbest: 0.9112500 (104)\ttotal: 51.3s\tremaining: 5m 18s\n",
      "141:\ttest: 0.9085417\tbest: 0.9112500 (104)\ttotal: 52.7s\tremaining: 5m 18s\n",
      "144:\ttest: 0.9082292\tbest: 0.9112500 (104)\ttotal: 53.7s\tremaining: 5m 16s\n",
      "147:\ttest: 0.9101042\tbest: 0.9112500 (104)\ttotal: 54.9s\tremaining: 5m 16s\n",
      "150:\ttest: 0.9112500\tbest: 0.9113542 (149)\ttotal: 56.1s\tremaining: 5m 15s\n",
      "153:\ttest: 0.9097917\tbest: 0.9113542 (149)\ttotal: 57.3s\tremaining: 5m 14s\n",
      "156:\ttest: 0.9084375\tbest: 0.9113542 (149)\ttotal: 58.4s\tremaining: 5m 13s\n",
      "159:\ttest: 0.9083333\tbest: 0.9113542 (149)\ttotal: 59.5s\tremaining: 5m 12s\n",
      "162:\ttest: 0.9072917\tbest: 0.9113542 (149)\ttotal: 1m\tremaining: 5m 10s\n",
      "165:\ttest: 0.9066667\tbest: 0.9113542 (149)\ttotal: 1m 1s\tremaining: 5m 8s\n",
      "168:\ttest: 0.9069792\tbest: 0.9113542 (149)\ttotal: 1m 2s\tremaining: 5m 6s\n",
      "171:\ttest: 0.9064583\tbest: 0.9113542 (149)\ttotal: 1m 3s\tremaining: 5m 5s\n",
      "174:\ttest: 0.9061458\tbest: 0.9113542 (149)\ttotal: 1m 4s\tremaining: 5m 3s\n",
      "177:\ttest: 0.9057292\tbest: 0.9113542 (149)\ttotal: 1m 5s\tremaining: 5m 1s\n",
      "180:\ttest: 0.9068750\tbest: 0.9113542 (149)\ttotal: 1m 6s\tremaining: 5m\n",
      "183:\ttest: 0.9065625\tbest: 0.9113542 (149)\ttotal: 1m 7s\tremaining: 4m 58s\n",
      "186:\ttest: 0.9072917\tbest: 0.9113542 (149)\ttotal: 1m 8s\tremaining: 4m 56s\n",
      "189:\ttest: 0.9067708\tbest: 0.9113542 (149)\ttotal: 1m 9s\tremaining: 4m 55s\n",
      "192:\ttest: 0.9077083\tbest: 0.9113542 (149)\ttotal: 1m 10s\tremaining: 4m 53s\n",
      "195:\ttest: 0.9081250\tbest: 0.9113542 (149)\ttotal: 1m 11s\tremaining: 4m 51s\n",
      "198:\ttest: 0.9080208\tbest: 0.9113542 (149)\ttotal: 1m 12s\tremaining: 4m 49s\n",
      "201:\ttest: 0.9087500\tbest: 0.9113542 (149)\ttotal: 1m 12s\tremaining: 4m 47s\n",
      "204:\ttest: 0.9093750\tbest: 0.9113542 (149)\ttotal: 1m 14s\tremaining: 4m 48s\n",
      "207:\ttest: 0.9089583\tbest: 0.9113542 (149)\ttotal: 1m 15s\tremaining: 4m 47s\n",
      "210:\ttest: 0.9095833\tbest: 0.9113542 (149)\ttotal: 1m 16s\tremaining: 4m 46s\n",
      "213:\ttest: 0.9101042\tbest: 0.9113542 (149)\ttotal: 1m 17s\tremaining: 4m 45s\n",
      "216:\ttest: 0.9087500\tbest: 0.9113542 (149)\ttotal: 1m 18s\tremaining: 4m 44s\n",
      "219:\ttest: 0.9082292\tbest: 0.9113542 (149)\ttotal: 1m 19s\tremaining: 4m 43s\n",
      "222:\ttest: 0.9095833\tbest: 0.9113542 (149)\ttotal: 1m 21s\tremaining: 4m 42s\n",
      "225:\ttest: 0.9094792\tbest: 0.9113542 (149)\ttotal: 1m 21s\tremaining: 4m 40s\n",
      "228:\ttest: 0.9084375\tbest: 0.9113542 (149)\ttotal: 1m 23s\tremaining: 4m 39s\n",
      "231:\ttest: 0.9067708\tbest: 0.9113542 (149)\ttotal: 1m 24s\tremaining: 4m 38s\n",
      "234:\ttest: 0.9063542\tbest: 0.9113542 (149)\ttotal: 1m 25s\tremaining: 4m 36s\n",
      "237:\ttest: 0.9082292\tbest: 0.9113542 (149)\ttotal: 1m 26s\tremaining: 4m 35s\n",
      "240:\ttest: 0.9076042\tbest: 0.9113542 (149)\ttotal: 1m 27s\tremaining: 4m 34s\n",
      "243:\ttest: 0.9076042\tbest: 0.9113542 (149)\ttotal: 1m 28s\tremaining: 4m 32s\n",
      "246:\ttest: 0.9077083\tbest: 0.9113542 (149)\ttotal: 1m 29s\tremaining: 4m 31s\n",
      "249:\ttest: 0.9080208\tbest: 0.9113542 (149)\ttotal: 1m 30s\tremaining: 4m 30s\n",
      "Stopped by overfitting detector  (100 iterations wait)\n",
      "\n",
      "bestTest = 0.9113541667\n",
      "bestIteration = 149\n",
      "\n",
      "Shrink model to first 150 iterations.\n",
      "F1_Score 0.8444444444444444\n",
      "F1_Score на константной модели 0.7499999999999999\n",
      "precision_score 0.9047619047619048\n",
      "recall_score 0.7916666666666666\n",
      "ROC_AUC_SCORE 0.9113541666666667\n",
      "Обучение закончено, модель сохранена.\n"
     ]
    }
   ],
   "source": [
    "# -*- coding: utf-8 -*-\n",
    "\"\"\"\n",
    "Created on Sun Aug  7 15:39:51 2022\n",
    "\n",
    "@author: 72090\n",
    "\"\"\"\n",
    "#imports\n",
    "from catboost import CatBoostClassifier, Pool\n",
    "from sklearn.preprocessing import StandardScaler\n",
    "import pandas as pd\n",
    "from sklearn.metrics import f1_score, recall_score, precision_score, roc_auc_score\n",
    "from sklearn.utils.class_weight import compute_class_weight\n",
    "import numpy as np\n",
    "\n",
    "train_df = pd.read_csv('DB/train.csv', index_col = 0, sep = ';', encoding='utf-8-sig', on_bad_lines='skip')\n",
    "test_df = pd.read_csv('DB/test.csv', index_col = 0, sep = ';', encoding='utf-8-sig', on_bad_lines='skip')\n",
    "\n",
    "X = train_df.drop(['date', 'user','target'], axis = 1)\n",
    "y = train_df['target']\n",
    "X = X.fillna('other')\n",
    "\n",
    "X_test = test_df.drop(['date', 'user', 'target'], axis = 1)\n",
    "y_test = test_df['target']\n",
    "X_test = X_test.fillna('other') \n",
    "\n",
    "cat_features = ['city', 'moscow_district', 'region', 'area']\n",
    "numeric_features = ['site', 'allergens', 'medicins', 'symptom', 'negative', 'positive']\n",
    "text_features = ['msg']\n",
    "scaler = StandardScaler()\n",
    "scaler.fit(X[numeric_features])\n",
    "X[numeric_features] = scaler.transform(X[numeric_features])\n",
    "X_test[numeric_features] = scaler.transform(X_test[numeric_features])\n",
    "\n",
    "train_data = Pool(X, label = y, cat_features=cat_features, text_features = text_features)\n",
    "test_data = Pool(X_test, label = y_test, cat_features=cat_features, text_features = text_features)\n",
    "\n",
    "classes = np.unique(y)\n",
    "weights = compute_class_weight(class_weight='balanced', classes=classes, y=y)\n",
    "\n",
    "model_ct =  CatBoostClassifier(verbose = 3,\n",
    "                               eval_metric='AUC',\n",
    "                               max_depth=8,\n",
    "                               learning_rate = 0.1,\n",
    "                               class_weights = weights,\n",
    "                               early_stopping_rounds=100)\n",
    "model_ct.fit(train_data, plot = True, use_best_model = True, eval_set = test_data)\n",
    "print(\"F1_Score\", f1_score(y_test, model_ct.predict(X_test)))\n",
    "print(\"F1_Score на константной модели\", f1_score(y_test, pd.Series([1]*len(y_test))))\n",
    "print(\"precision_score\", precision_score(y_test, model_ct.predict(X_test)))\n",
    "print(\"recall_score\", recall_score(y_test, model_ct.predict(X_test)))\n",
    "print(\"ROC_AUC_SCORE\", roc_auc_score(y_test, model_ct.predict_proba(X_test)[:, 1]))\n",
    "model_ct.save_model('model/cat_model_vs_text')\n",
    "print('Обучение закончено, модель сохранена.')\n"
   ]
  },
  {
   "cell_type": "markdown",
   "id": "ccbbffa3",
   "metadata": {},
   "source": [
    "Модель обучна. Её recall_score равенн 0.7916666666666666 (мы находим примерно 79 процентов правильных ответов)."
   ]
  },
  {
   "cell_type": "markdown",
   "id": "187f1cd1",
   "metadata": {},
   "source": [
    "Максимизируем точность предсказание модели. Для этого найдем оптимальное значение вероятности, выше которого мы будем говорить, что факт аллергии найден. "
   ]
  },
  {
   "cell_type": "markdown",
   "id": "6f51c34a",
   "metadata": {},
   "source": [
    "Построим ROC_AUC кривую для наглядности."
   ]
  },
  {
   "cell_type": "code",
   "execution_count": 53,
   "id": "6cc9dfd4",
   "metadata": {
    "scrolled": true
   },
   "outputs": [
    {
     "data": {
      "image/png": "[encoded data removed]",
      "text/plain": [
       "<Figure size 432x288 with 1 Axes>"
      ]
     },
     "metadata": {
      "needs_background": "light"
     },
     "output_type": "display_data"
    }
   ],
   "source": [
    "from sklearn.metrics import roc_curve\n",
    "from matplotlib import pyplot\n",
    "\n",
    "\n",
    "ns_probs = [0 for _ in range(len(y_test))]\n",
    "lr_probs = model_ct.predict_proba(X_test)[:, 1]\n",
    "# calculate roc curves\n",
    "ns_fpr, ns_tpr, _ = roc_curve(y_test, ns_probs)\n",
    "lr_fpr, lr_tpr, trh = roc_curve(y_test, lr_probs)\n",
    "# plot the roc curve for the model\n",
    "pyplot.plot(ns_fpr, ns_tpr, linestyle='--', label='No Skill')\n",
    "pyplot.plot(lr_fpr, lr_tpr, marker='.', label='Logistic')\n",
    "# axis labels\n",
    "pyplot.xlabel('False Positive Rate')\n",
    "pyplot.ylabel('True Positive Rate')\n",
    "# show the legend\n",
    "pyplot.legend()\n",
    "# show the plot\n",
    "pyplot.show()"
   ]
  },
  {
   "cell_type": "markdown",
   "id": "250ee83c",
   "metadata": {},
   "source": [
    "Наилучшее значение вероятности (trh) получется в точке наиболее близкой к левому верхнему углу графика. Найде это значение."
   ]
  },
  {
   "cell_type": "code",
   "execution_count": 55,
   "id": "1b73abc7",
   "metadata": {
    "scrolled": true
   },
   "outputs": [
    {
     "name": "stdout",
     "output_type": "stream",
     "text": [
      "Минимально расстояние 0.7208333333333333 достигается при значении tpr = 0.8833333333333333 и fpr = 0.1625, лучший trh - 0.3411492842925379\n"
     ]
    }
   ],
   "source": [
    "diff = 0\n",
    "tpr = None\n",
    "fpr = None\n",
    "best_trh = None\n",
    "\n",
    "for i in range(len(lr_fpr)):\n",
    "    \n",
    "    if diff < lr_tpr[i] - lr_fpr[i]:\n",
    "        diff = lr_tpr[i] - lr_fpr[i]\n",
    "        tpr = lr_tpr[i]\n",
    "        fpr = lr_fpr[i]\n",
    "        best_trh = trh[i]\n",
    "        \n",
    "print(f\"Минимально расстояние {diff} достигается при значении tpr = {tpr} и fpr = {fpr}, лучший trh - {best_trh}\")\n"
   ]
  },
  {
   "cell_type": "markdown",
   "id": "e06c3573",
   "metadata": {},
   "source": [
    "Посчитаем качество предсказаний модели."
   ]
  },
  {
   "cell_type": "code",
   "execution_count": 57,
   "id": "4dafd3f9",
   "metadata": {},
   "outputs": [
    {
     "name": "stdout",
     "output_type": "stream",
     "text": [
      "Best F1_Score 0.8823529411764707\n",
      "Best precision_score 0.8898305084745762\n",
      "Best recall_score 0.875\n"
     ]
    }
   ],
   "source": [
    "print(\"Best F1_Score\", f1_score(y_test, (model_ct.predict_proba(X_test)[:, 1] > 0.3411492842925379)*1))\n",
    "print(\"Best precision_score\", precision_score(y_test, (model_ct.predict_proba(X_test)[:, 1] > 0.3411492842925379)*1))\n",
    "print(\"Best recall_score\", recall_score(y_test, (model_ct.predict_proba(X_test)[:, 1] > 0.3411492842925379)*1))"
   ]
  },
  {
   "cell_type": "markdown",
   "id": "57e48e07",
   "metadata": {},
   "source": [
    "Качество повысилось. Best recall_score 0.875 (мы находим примерно 87 процентов правильных ответов)"
   ]
  },
  {
   "cell_type": "markdown",
   "id": "7e02fe42",
   "metadata": {},
   "source": [
    "Подготовим новое предсказание с учетом найденной вероятности."
   ]
  },
  {
   "cell_type": "code",
   "execution_count": 58,
   "id": "a5f4da11",
   "metadata": {},
   "outputs": [],
   "source": [
    "X_rest = pd.read_csv('DB/rest.csv', index_col = 0, sep = ';', encoding='utf-8-sig', on_bad_lines='skip')\n",
    "\n",
    "X_rest = X_rest.drop(['date', 'user'], axis = 1)\n",
    "X_rest = X_rest.fillna('other')\n",
    "\n",
    "cat_features = ['city', 'moscow_district', 'region', 'area']\n",
    "numeric_features = ['site', 'allergens', 'medicins', 'symptom', 'negative', 'positive']\n",
    "text_features = ['msg']\n",
    "\n",
    "model = CatBoostClassifier()\n",
    "\n",
    "prediction = model.load_model('model/cat_model_vs_text', format='cbm').predict_proba(X_rest)\n",
    "\n",
    "X_rest['predict'] = pd.Series((prediction[:, 1]> 0.3411492842925379)*1)\n"
   ]
  },
  {
   "cell_type": "markdown",
   "id": "7e4ba2a6",
   "metadata": {},
   "source": [
    "Загрузим базу городов"
   ]
  },
  {
   "cell_type": "code",
   "execution_count": 74,
   "id": "03ca6bd1",
   "metadata": {
    "scrolled": true
   },
   "outputs": [],
   "source": [
    "cities  = pd.read_csv('DB/cities_utf_sig.csv', index_col = 0, sep = ';', encoding='utf-8-sig', on_bad_lines='skip')"
   ]
  },
  {
   "cell_type": "markdown",
   "id": "bc0b1357",
   "metadata": {},
   "source": [
    "Подготовим список аллергенов."
   ]
  },
  {
   "cell_type": "code",
   "execution_count": 88,
   "id": "70c2806a",
   "metadata": {
    "scrolled": true
   },
   "outputs": [
    {
     "name": "stdout",
     "output_type": "stream",
     "text": [
      "Allergens done!\n"
     ]
    }
   ],
   "source": [
    "from work_func import file_to_list\n",
    "from yargy import rule, Parser, or_\n",
    "from yargy.pipelines import morph_pipeline\n",
    "from yargy.interpretation import fact\n",
    "allergen_list = set(file_to_list('text/allergen.txt', separator = '\\n'))\n",
    "#загружаем список мест проявления аллергии\n",
    "\n",
    "#объявим факт - Allergen - аллерген\n",
    "Allergen = fact(\n",
    "    'Allergen',\n",
    "    ['name']\n",
    ")\n",
    "\n",
    "#морф пайплайн для аллергенов\n",
    "ALLERGEN_PIPELINE = morph_pipeline(\n",
    "    allergen_list\n",
    ").interpretation(\n",
    "    Allergen.name.normalized().custom(lambda x: x.title())\n",
    ")\n",
    "\n",
    "ALLERGEN_RULE = rule(\n",
    "    ALLERGEN_PIPELINE\n",
    ").interpretation(\n",
    "    Allergen\n",
    ")\n",
    "\n",
    "parser = Parser(ALLERGEN_RULE)\n",
    "X_rest['allerg'] = X_rest['msg'].apply(lambda x: ' '.join([match.fact.name for match in parser.findall(x)]))\n",
    "print('Allergens done!')"
   ]
  },
  {
   "cell_type": "markdown",
   "id": "fda5428c",
   "metadata": {},
   "source": [
    "Подготовим список найденных городов с географическими координатами и списком аалергенов."
   ]
  },
  {
   "cell_type": "code",
   "execution_count": 89,
   "id": "a1d19248",
   "metadata": {
    "scrolled": true
   },
   "outputs": [
    {
     "name": "stdout",
     "output_type": "stream",
     "text": [
      "Готово\n"
     ]
    }
   ],
   "source": [
    "city_geo = []\n",
    "for i in range(len(cities['city'])):\n",
    "    for j in range(len(X_rest['city'])):\n",
    "        if (X_rest['predict'][j] == 1) and (X_rest['city'][j] == cities['city'][i]):\n",
    "            city_geo.append([cities['city'][i], cities['geo_lat'][i], cities['geo_lon'][i], X_rest['allerg'][j]])\n",
    "            break\n",
    "print(\"Готово\")"
   ]
  },
  {
   "cell_type": "markdown",
   "id": "2754fc54",
   "metadata": {},
   "source": [
    "Превратим список в DataFrame для удобства работы."
   ]
  },
  {
   "cell_type": "code",
   "execution_count": 93,
   "id": "0eecfb85",
   "metadata": {},
   "outputs": [
    {
     "data": {
      "text/html": [
       "<div>\n",
       "<style scoped>\n",
       "    .dataframe tbody tr th:only-of-type {\n",
       "        vertical-align: middle;\n",
       "    }\n",
       "\n",
       "    .dataframe tbody tr th {\n",
       "        vertical-align: top;\n",
       "    }\n",
       "\n",
       "    .dataframe thead th {\n",
       "        text-align: right;\n",
       "    }\n",
       "</style>\n",
       "<table border=\"1\" class=\"dataframe\">\n",
       "  <thead>\n",
       "    <tr style=\"text-align: right;\">\n",
       "      <th></th>\n",
       "      <th>city</th>\n",
       "      <th>geo_lat</th>\n",
       "      <th>geo_lon</th>\n",
       "      <th>allergens</th>\n",
       "    </tr>\n",
       "  </thead>\n",
       "  <tbody>\n",
       "    <tr>\n",
       "      <th>0</th>\n",
       "      <td>Барнаул</td>\n",
       "      <td>53.347997</td>\n",
       "      <td>83.779806</td>\n",
       "      <td></td>\n",
       "    </tr>\n",
       "    <tr>\n",
       "      <th>1</th>\n",
       "      <td>Бийск</td>\n",
       "      <td>52.539386</td>\n",
       "      <td>85.213845</td>\n",
       "      <td></td>\n",
       "    </tr>\n",
       "    <tr>\n",
       "      <th>2</th>\n",
       "      <td>Свободный</td>\n",
       "      <td>51.361410</td>\n",
       "      <td>128.121973</td>\n",
       "      <td>Пыль Пыльца</td>\n",
       "    </tr>\n",
       "    <tr>\n",
       "      <th>3</th>\n",
       "      <td>Архангельск</td>\n",
       "      <td>64.539429</td>\n",
       "      <td>40.516961</td>\n",
       "      <td></td>\n",
       "    </tr>\n",
       "    <tr>\n",
       "      <th>4</th>\n",
       "      <td>Мирный</td>\n",
       "      <td>62.764527</td>\n",
       "      <td>40.336008</td>\n",
       "      <td></td>\n",
       "    </tr>\n",
       "    <tr>\n",
       "      <th>...</th>\n",
       "      <td>...</td>\n",
       "      <td>...</td>\n",
       "      <td>...</td>\n",
       "      <td>...</td>\n",
       "    </tr>\n",
       "    <tr>\n",
       "      <th>206</th>\n",
       "      <td>Зеленоград</td>\n",
       "      <td>55.982500</td>\n",
       "      <td>37.181390</td>\n",
       "      <td>Береза</td>\n",
       "    </tr>\n",
       "    <tr>\n",
       "      <th>207</th>\n",
       "      <td>Санкт-Петербург</td>\n",
       "      <td>59.939131</td>\n",
       "      <td>30.315900</td>\n",
       "      <td>Береза Полынь</td>\n",
       "    </tr>\n",
       "    <tr>\n",
       "      <th>208</th>\n",
       "      <td>Балашиха</td>\n",
       "      <td>55.809450</td>\n",
       "      <td>37.958060</td>\n",
       "      <td></td>\n",
       "    </tr>\n",
       "    <tr>\n",
       "      <th>209</th>\n",
       "      <td>Мыс Фиолент</td>\n",
       "      <td>44.501336</td>\n",
       "      <td>33.489023</td>\n",
       "      <td></td>\n",
       "    </tr>\n",
       "    <tr>\n",
       "      <th>210</th>\n",
       "      <td>Щёлково</td>\n",
       "      <td>55.925000</td>\n",
       "      <td>37.972200</td>\n",
       "      <td></td>\n",
       "    </tr>\n",
       "  </tbody>\n",
       "</table>\n",
       "<p>211 rows × 4 columns</p>\n",
       "</div>"
      ],
      "text/plain": [
       "                city    geo_lat     geo_lon      allergens\n",
       "0            Барнаул  53.347997   83.779806               \n",
       "1              Бийск  52.539386   85.213845               \n",
       "2          Свободный  51.361410  128.121973    Пыль Пыльца\n",
       "3        Архангельск  64.539429   40.516961               \n",
       "4             Мирный  62.764527   40.336008               \n",
       "..               ...        ...         ...            ...\n",
       "206       Зеленоград  55.982500   37.181390         Береза\n",
       "207  Санкт-Петербург  59.939131   30.315900  Береза Полынь\n",
       "208         Балашиха  55.809450   37.958060               \n",
       "209      Мыс Фиолент  44.501336   33.489023               \n",
       "210          Щёлково  55.925000   37.972200               \n",
       "\n",
       "[211 rows x 4 columns]"
      ]
     },
     "execution_count": 93,
     "metadata": {},
     "output_type": "execute_result"
    }
   ],
   "source": [
    "city = pd.DataFrame(city_geo, columns = ['city', 'geo_lat', 'geo_lon', 'allergens'])\n",
    "city"
   ]
  },
  {
   "cell_type": "markdown",
   "id": "1e7df048",
   "metadata": {},
   "source": [
    "Нарисуем график"
   ]
  },
  {
   "cell_type": "code",
   "execution_count": 102,
   "id": "bada9d2e",
   "metadata": {
    "scrolled": false
   },
   "outputs": [
    {
     "data": {
      "application/vnd.plotly.v1+json": {
       "config": {
        "plotlyServerURL": "https://plot.ly"
       },
       "data": [
        {
         "lat": [
          53.3479968,
          52.5393864,
          51.3614103,
          64.5394289,
          62.7645265,
          64.5625385,
          46.3655652,
          56.088377,
          54.4815311,
          54.734944,
          53.2419535,
          53.0599771,
          56.1280804,
          56.3327254,
          55.9166398,
          48.7070042,
          59.2483905,
          59.4758605,
          59.1269212,
          51.6593332,
          50.453455,
          42.058966,
          42.9849159,
          56.9993792,
          57.1025975,
          56.8560234,
          53.920693,
          52.2864036,
          43.6281516,
          43.4845464,
          43.7589602,
          54.6513372,
          54.7074702,
          54.9516574,
          54.9439286,
          46.0875083,
          46.3083344,
          55.1773714,
          55.2130096,
          55.0301833,
          54.5059848,
          54.0790111,
          55.0943144,
          61.7891264,
          55.6693513,
          56.0622131,
          58.6035264,
          67.4974082,
          61.6686617,
          63.5565514,
          57.768,
          44.8950433,
          44.5630007,
          46.71157,
          45.0401604,
          44.7235026,
          43.5854551,
          44.1105335,
          56.1131564,
          56.0093879,
          44.4164605,
          44.6764304,
          45.190629,
          45.3562627,
          45.1341997,
          44.9482948,
          45.0318393,
          44.4953612,
          55.4443883,
          51.7303637,
          60.0191278,
          60.7130801,
          59.565237,
          59.8754216,
          60.044862,
          59.7726848,
          52.4874097,
          52.610249,
          59.5681332,
          55.7540471,
          55.7540471,
          55.796389,
          55.551725,
          55.6240869,
          56.3477457,
          55.9385999,
          55.4363283,
          56.741786,
          55.599803,
          55.7297089,
          55.9062267,
          55.102814,
          55.9161773,
          55.6597925,
          56.105426,
          55.8317203,
          55.5792277,
          56.0328881,
          54.9652077,
          55.5778163,
          55.676499,
          55.5069259,
          55.9105782,
          55.8686133,
          55.6789455,
          54.8541006,
          55.4389322,
          54.8705984,
          56.0103638,
          55.5495132,
          55.7582621,
          55.7014744,
          56.3062548,
          54.9226466,
          56.185102,
          55.810648,
          54.886274,
          56.7308564,
          55.9590588,
          55.888657,
          56.2516982,
          55.1508011,
          55.9233801,
          67.5677761,
          67.1567974,
          67.6150424,
          68.8786028,
          69.007721,
          55.3945814,
          56.2376047,
          56.3240627,
          54.9228268,
          58.5213846,
          54.7582156,
          55.028191,
          54.9848566,
          56.9160511,
          51.4649189,
          51.7875092,
          52.4284558,
          52.9671298,
          53.1753314,
          59.4079923,
          57.4283296,
          58.0102583,
          59.6482998,
          43.3501675,
          43.1164904,
          42.8239372,
          58.7432429,
          57.3451528,
          57.8194415,
          48.3350706,
          47.2094917,
          54.6254445,
          53.3800848,
          53.1950306,
          53.5205348,
          59.9391313,
          51.023541,
          51.533557,
          56.9095924,
          56.8385216,
          58.6348516,
          57.910126,
          44.6167013,
          54.782635,
          44.1320568,
          44.041091,
          45.044516,
          52.8912389,
          52.7213154,
          54.9014619,
          55.7567107,
          55.8466651,
          55.7943584,
          55.7270698,
          55.7434619,
          55.6313609,
          57.2579478,
          56.7275204,
          56.8586059,
          56.4845804,
          54.1920559,
          57.1529744,
          58.1359233,
          56.852738,
          54.3079415,
          63.7121099,
          61.3706913,
          61.2541083,
          54.9906527,
          55.1714905,
          53.4072153,
          55.0456457,
          54.0843745,
          55.1602624,
          56.1438298,
          62.536232,
          66.4071765,
          63.2018039,
          58.3620228,
          57.2051315,
          58.0485495,
          57.6215477,
          59.9391313,
          55.9825,
          59.9391313,
          55.80945,
          44.501336,
          55.925
         ],
         "lon": [
          83.7798064,
          85.2138453,
          128.1219729,
          40.5169606,
          40.3360076,
          39.8180934,
          48.0559236,
          54.2483061,
          53.4655972,
          55.9578468,
          34.3652146,
          32.8468129,
          40.4084376,
          39.391336,
          39.1734526,
          44.5170339,
          39.8355662,
          40.1114187,
          37.9090497,
          39.1969229,
          40.136874,
          48.2907452,
          47.5047181,
          40.9728272,
          41.7298834,
          41.3800939,
          102.0491772,
          104.2807466,
          44.0517314,
          43.60713,
          44.0102409,
          19.9140572,
          20.5073241,
          20.2277424,
          20.1514295,
          41.935537,
          44.2702088,
          36.6566951,
          36.4926251,
          36.7394903,
          36.2516245,
          34.3076201,
          36.6121639,
          34.3596434,
          86.2744459,
          85.6207182,
          49.6679304,
          64.061034,
          50.8358151,
          53.7014239,
          40.927,
          37.3163282,
          38.0790852,
          38.2763895,
          38.9759647,
          37.7686135,
          39.7231548,
          39.0824904,
          94.5888103,
          92.8524806,
          34.0444797,
          34.4100624,
          33.367634,
          36.4674513,
          33.6033383,
          34.1001151,
          35.3824259,
          34.166308,
          65.3161963,
          36.1925603,
          30.6456718,
          28.7328336,
          30.1282473,
          30.981364,
          30.4571456,
          30.7988557,
          39.9331142,
          39.5947883,
          150.8084956,
          37.620405,
          37.620405,
          37.938283,
          37.7061984,
          37.8440276,
          37.526672,
          37.5101021,
          37.7664984,
          37.1757223,
          38.1224298,
          36.8554029,
          36.8601454,
          38.7531002,
          37.8545415,
          37.8631156,
          38.140838,
          37.3295266,
          38.9207723,
          37.4614035,
          39.0260266,
          37.9033507,
          37.898125,
          36.024043,
          37.7363579,
          38.4622104,
          37.263686,
          38.5599196,
          37.5703482,
          37.2182749,
          37.8471403,
          38.2728914,
          37.8618553,
          36.1959206,
          38.1502661,
          37.4033859,
          36.977631,
          38.175624,
          38.078228,
          37.5276003,
          38.0410235,
          37.4303702,
          37.9396017,
          37.4533252,
          37.9783707,
          33.4067929,
          32.4143218,
          33.663735,
          33.0262299,
          33.0685865,
          43.8408141,
          43.4599416,
          44.0053913,
          43.3448089,
          31.2755394,
          83.1070605,
          82.9211489,
          73.3674517,
          74.3649194,
          58.4436875,
          55.1018828,
          37.6039506,
          36.0696427,
          45.0348625,
          56.8039427,
          56.9438656,
          56.2342034,
          56.771009,
          132.1596175,
          131.8823937,
          132.8927361,
          27.8264809,
          28.3437593,
          28.3317198,
          39.945891,
          38.9350989,
          39.7358609,
          51.3438605,
          50.1069518,
          49.3894028,
          30.3159004,
          45.695044,
          46.034257,
          60.8180907,
          60.6054911,
          59.7981565,
          59.9812853,
          33.525355,
          32.045251,
          43.0306461,
          43.0661553,
          41.9689655,
          40.5104443,
          41.452264,
          52.2970467,
          52.0543794,
          48.5010954,
          49.1114975,
          53.1003968,
          52.3959165,
          51.8144669,
          37.7819693,
          36.8012716,
          35.9116761,
          84.9481582,
          37.6153842,
          65.5344099,
          52.6635038,
          53.2114896,
          48.3748487,
          66.6772226,
          63.5667222,
          73.3961587,
          57.2783953,
          59.6725549,
          58.9791437,
          60.1077572,
          61.5586831,
          61.4008078,
          47.2489782,
          113.9667728,
          112.3061555,
          75.4510581,
          40.686841,
          39.4378622,
          38.8584119,
          39.8977411,
          30.3159004,
          37.18139,
          30.3159004,
          37.95806,
          33.489023,
          37.9722
         ],
         "text": [
          "Барнаул ",
          "Бийск ",
          "Свободный Пыль Пыльца",
          "Архангельск ",
          "Мирный ",
          "Северодвинск Ольха",
          "Астрахань ",
          "Нефтекамск ",
          "Октябрьский ",
          "Уфа ",
          "Брянск Береза Сосна Пыльца Береза Пыльца Сосна",
          "Мглин ",
          "Владимир Береза",
          "Кольчугино Пыльца",
          "Покров ",
          "Волгоград Злаки",
          "Вологда ",
          "Сокол ",
          "Череповец Береза",
          "Воронеж ",
          "Павловск ",
          "Дербент ",
          "Махачкала Береза",
          "Иваново Береза",
          "Родники Пыльца",
          "Шуя ",
          "Зима Пыльца",
          "Иркутск ",
          "Майский Сосна",
          "Нальчик ",
          "Прохладный ",
          "Балтийск ",
          "Калининград Береза",
          "Пионерский ",
          "Светлогорск Береза",
          "Городовиковск Береза Ольха Лещина",
          "Элиста ",
          "Балабаново ",
          "Боровск Береза",
          "Жуков ",
          "Калуга ",
          "Киров Береза Береза",
          "Обнинск ",
          "Петрозаводск Пыльца",
          "Березовский ",
          "Тайга Крапива",
          "Киров Береза Береза",
          "Воркута ",
          "Сыктывкар Береза",
          "Ухта ",
          "Кострома Злаки",
          "Анапа ",
          "Геленджик Береза Пыльца Береза Пыльца",
          "Ейск ",
          "Краснодар ",
          "Новороссийск ",
          "Сочи Злаки",
          "Туапсе ",
          "Зеленогорск ",
          "Красноярск ",
          "Ялта ",
          "Алушта Амброзия",
          "Евпатория ",
          "Керчь ",
          "Саки ",
          "Симферополь ",
          "Феодосия Полынь",
          "Ялта ",
          "Курган ",
          "Курск ",
          "Всеволожск ",
          "Выборг ",
          "Гатчина ",
          "Кировск Ольха Лещина Береза Пыльца",
          "Мурино ",
          "Отрадное Береза Ольха Лещина Ольха",
          "Грязи Пыль",
          "Липецк ",
          "Магадан ",
          "Москва ",
          "Москва ",
          "Балашиха ",
          "Видное ",
          "Дзержинский Злаки",
          "Дмитров Ольха Береза",
          "Долгопрудный ",
          "Домодедово ",
          "Дубна Береза",
          "Жуковский ",
          "Звенигород ",
          "Истра ",
          "Коломна ",
          "Королёв ",
          "Котельники ",
          "Красноармейск Крапива Крапива Крапива Пыльца",
          "Красногорск ",
          "Куровское ",
          "Лобня ",
          "Луховицы ",
          "Лыткарино ",
          "Люберцы ",
          "Можайск ",
          "Мытищи ",
          "Ногинск Злаки",
          "Одинцово ",
          "Озёры ",
          "Подольск ",
          "Протвино ",
          "Пушкино ",
          "Раменское Злаки",
          "Реутов ",
          "Руза Пыльца Ольха",
          "Сергиев Посад ",
          "Серпухов Сосна",
          "Солнечногорск ",
          "Старая Купавна ",
          "Ступино ",
          "Талдом ",
          "Фрязино ",
          "Химки ",
          "Хотьково Береза Пыльца",
          "Чехов Одуванчик",
          "Щёлково ",
          "Апатиты ",
          "Кандалакша ",
          "Кировск Ольха Лещина Береза Пыльца",
          "Кола ",
          "Мурманск ",
          "Арзамас ",
          "Дзержинск ",
          "Нижний Новгород ",
          "Саров ",
          "Великий Новгород ",
          "Бердск Пыльца",
          "Новосибирск Ольха Орешник Береза Злаки",
          "Омск Сорные Травы Злаки Береза",
          "Тара ",
          "Гай ",
          "Оренбург ",
          "Ливны ",
          "Орёл Пыльца",
          "Пенза Береза",
          "Березники ",
          "Кунгур Пыльца Береза",
          "Пермь ",
          "Соликамск ",
          "Артем ",
          "Владивосток ",
          "Находка ",
          "Гдов Береза",
          "Остров ",
          "Псков Береза",
          "Донецк ",
          "Таганрог ",
          "Рязань ",
          "Отрадный ",
          "Самара ",
          "Тольятти ",
          "Санкт-Петербург Береза Полынь",
          "Красноармейск Крапива Крапива Крапива Пыльца",
          "Саратов ",
          "Березовский ",
          "Екатеринбург ",
          "Лесной ",
          "Нижний Тагил Береза",
          "Севастополь ",
          "Смоленск ",
          "Железноводск Береза Граб",
          "Пятигорск ",
          "Ставрополь ",
          "Мичуринск Береза",
          "Тамбов ",
          "Альметьевск ",
          "Елабуга Береза Ольха",
          "Зеленодольск ",
          "Казань Пыльца",
          "Мензелинск ",
          "Набережные Челны ",
          "Нижнекамск ",
          "Калязин ",
          "Конаково Ива",
          "Тверь ",
          "Томск ",
          "Тула ",
          "Тюмень ",
          "Глазов Береза Береза Ольха",
          "Ижевск Злаки",
          "Ульяновск ",
          "Белоярский Береза",
          "Советский ",
          "Сургут ",
          "Аша ",
          "Златоуст ",
          "Магнитогорск ",
          "Миасс ",
          "Троицк ",
          "Челябинск ",
          "Чебоксары Береза Злаки Злаки Береза",
          "Мирный ",
          "Удачный ",
          "Ноябрьск ",
          "Любим Акация",
          "Ростов ",
          "Рыбинск Береза",
          "Ярославль ",
          "Санкт-Петербург Береза Полынь",
          "Зеленоград Береза",
          "Санкт-Петербург Береза Полынь",
          "Балашиха ",
          "Мыс Фиолент ",
          "Щёлково "
         ],
         "type": "scattermapbox"
        }
       ],
       "layout": {
        "mapbox": {
         "center": {
          "lat": 55.5333435,
          "lon": 85.3612764
         },
         "style": "open-street-map",
         "zoom": 2
        },
        "template": {
         "data": {
          "bar": [
           {
            "error_x": {
             "color": "#2a3f5f"
            },
            "error_y": {
             "color": "#2a3f5f"
            },
            "marker": {
             "line": {
              "color": "#E5ECF6",
              "width": 0.5
             },
             "pattern": {
              "fillmode": "overlay",
              "size": 10,
              "solidity": 0.2
             }
            },
            "type": "bar"
           }
          ],
          "barpolar": [
           {
            "marker": {
             "line": {
              "color": "#E5ECF6",
              "width": 0.5
             },
             "pattern": {
              "fillmode": "overlay",
              "size": 10,
              "solidity": 0.2
             }
            },
            "type": "barpolar"
           }
          ],
          "carpet": [
           {
            "aaxis": {
             "endlinecolor": "#2a3f5f",
             "gridcolor": "white",
             "linecolor": "white",
             "minorgridcolor": "white",
             "startlinecolor": "#2a3f5f"
            },
            "baxis": {
             "endlinecolor": "#2a3f5f",
             "gridcolor": "white",
             "linecolor": "white",
             "minorgridcolor": "white",
             "startlinecolor": "#2a3f5f"
            },
            "type": "carpet"
           }
          ],
          "choropleth": [
           {
            "colorbar": {
             "outlinewidth": 0,
             "ticks": ""
            },
            "type": "choropleth"
           }
          ],
          "contour": [
           {
            "colorbar": {
             "outlinewidth": 0,
             "ticks": ""
            },
            "colorscale": [
             [
              0,
              "#0d0887"
             ],
             [
              0.1111111111111111,
              "#46039f"
             ],
             [
              0.2222222222222222,
              "#7201a8"
             ],
             [
              0.3333333333333333,
              "#9c179e"
             ],
             [
              0.4444444444444444,
              "#bd3786"
             ],
             [
              0.5555555555555556,
              "#d8576b"
             ],
             [
              0.6666666666666666,
              "#ed7953"
             ],
             [
              0.7777777777777778,
              "#fb9f3a"
             ],
             [
              0.8888888888888888,
              "#fdca26"
             ],
             [
              1,
              "#f0f921"
             ]
            ],
            "type": "contour"
           }
          ],
          "contourcarpet": [
           {
            "colorbar": {
             "outlinewidth": 0,
             "ticks": ""
            },
            "type": "contourcarpet"
           }
          ],
          "heatmap": [
           {
            "colorbar": {
             "outlinewidth": 0,
             "ticks": ""
            },
            "colorscale": [
             [
              0,
              "#0d0887"
             ],
             [
              0.1111111111111111,
              "#46039f"
             ],
             [
              0.2222222222222222,
              "#7201a8"
             ],
             [
              0.3333333333333333,
              "#9c179e"
             ],
             [
              0.4444444444444444,
              "#bd3786"
             ],
             [
              0.5555555555555556,
              "#d8576b"
             ],
             [
              0.6666666666666666,
              "#ed7953"
             ],
             [
              0.7777777777777778,
              "#fb9f3a"
             ],
             [
              0.8888888888888888,
              "#fdca26"
             ],
             [
              1,
              "#f0f921"
             ]
            ],
            "type": "heatmap"
           }
          ],
          "heatmapgl": [
           {
            "colorbar": {
             "outlinewidth": 0,
             "ticks": ""
            },
            "colorscale": [
             [
              0,
              "#0d0887"
             ],
             [
              0.1111111111111111,
              "#46039f"
             ],
             [
              0.2222222222222222,
              "#7201a8"
             ],
             [
              0.3333333333333333,
              "#9c179e"
             ],
             [
              0.4444444444444444,
              "#bd3786"
             ],
             [
              0.5555555555555556,
              "#d8576b"
             ],
             [
              0.6666666666666666,
              "#ed7953"
             ],
             [
              0.7777777777777778,
              "#fb9f3a"
             ],
             [
              0.8888888888888888,
              "#fdca26"
             ],
             [
              1,
              "#f0f921"
             ]
            ],
            "type": "heatmapgl"
           }
          ],
          "histogram": [
           {
            "marker": {
             "pattern": {
              "fillmode": "overlay",
              "size": 10,
              "solidity": 0.2
             }
            },
            "type": "histogram"
           }
          ],
          "histogram2d": [
           {
            "colorbar": {
             "outlinewidth": 0,
             "ticks": ""
            },
            "colorscale": [
             [
              0,
              "#0d0887"
             ],
             [
              0.1111111111111111,
              "#46039f"
             ],
             [
              0.2222222222222222,
              "#7201a8"
             ],
             [
              0.3333333333333333,
              "#9c179e"
             ],
             [
              0.4444444444444444,
              "#bd3786"
             ],
             [
              0.5555555555555556,
              "#d8576b"
             ],
             [
              0.6666666666666666,
              "#ed7953"
             ],
             [
              0.7777777777777778,
              "#fb9f3a"
             ],
             [
              0.8888888888888888,
              "#fdca26"
             ],
             [
              1,
              "#f0f921"
             ]
            ],
            "type": "histogram2d"
           }
          ],
          "histogram2dcontour": [
           {
            "colorbar": {
             "outlinewidth": 0,
             "ticks": ""
            },
            "colorscale": [
             [
              0,
              "#0d0887"
             ],
             [
              0.1111111111111111,
              "#46039f"
             ],
             [
              0.2222222222222222,
              "#7201a8"
             ],
             [
              0.3333333333333333,
              "#9c179e"
             ],
             [
              0.4444444444444444,
              "#bd3786"
             ],
             [
              0.5555555555555556,
              "#d8576b"
             ],
             [
              0.6666666666666666,
              "#ed7953"
             ],
             [
              0.7777777777777778,
              "#fb9f3a"
             ],
             [
              0.8888888888888888,
              "#fdca26"
             ],
             [
              1,
              "#f0f921"
             ]
            ],
            "type": "histogram2dcontour"
           }
          ],
          "mesh3d": [
           {
            "colorbar": {
             "outlinewidth": 0,
             "ticks": ""
            },
            "type": "mesh3d"
           }
          ],
          "parcoords": [
           {
            "line": {
             "colorbar": {
              "outlinewidth": 0,
              "ticks": ""
             }
            },
            "type": "parcoords"
           }
          ],
          "pie": [
           {
            "automargin": true,
            "type": "pie"
           }
          ],
          "scatter": [
           {
            "fillpattern": {
             "fillmode": "overlay",
             "size": 10,
             "solidity": 0.2
            },
            "type": "scatter"
           }
          ],
          "scatter3d": [
           {
            "line": {
             "colorbar": {
              "outlinewidth": 0,
              "ticks": ""
             }
            },
            "marker": {
             "colorbar": {
              "outlinewidth": 0,
              "ticks": ""
             }
            },
            "type": "scatter3d"
           }
          ],
          "scattercarpet": [
           {
            "marker": {
             "colorbar": {
              "outlinewidth": 0,
              "ticks": ""
             }
            },
            "type": "scattercarpet"
           }
          ],
          "scattergeo": [
           {
            "marker": {
             "colorbar": {
              "outlinewidth": 0,
              "ticks": ""
             }
            },
            "type": "scattergeo"
           }
          ],
          "scattergl": [
           {
            "marker": {
             "colorbar": {
              "outlinewidth": 0,
              "ticks": ""
             }
            },
            "type": "scattergl"
           }
          ],
          "scattermapbox": [
           {
            "marker": {
             "colorbar": {
              "outlinewidth": 0,
              "ticks": ""
             }
            },
            "type": "scattermapbox"
           }
          ],
          "scatterpolar": [
           {
            "marker": {
             "colorbar": {
              "outlinewidth": 0,
              "ticks": ""
             }
            },
            "type": "scatterpolar"
           }
          ],
          "scatterpolargl": [
           {
            "marker": {
             "colorbar": {
              "outlinewidth": 0,
              "ticks": ""
             }
            },
            "type": "scatterpolargl"
           }
          ],
          "scatterternary": [
           {
            "marker": {
             "colorbar": {
              "outlinewidth": 0,
              "ticks": ""
             }
            },
            "type": "scatterternary"
           }
          ],
          "surface": [
           {
            "colorbar": {
             "outlinewidth": 0,
             "ticks": ""
            },
            "colorscale": [
             [
              0,
              "#0d0887"
             ],
             [
              0.1111111111111111,
              "#46039f"
             ],
             [
              0.2222222222222222,
              "#7201a8"
             ],
             [
              0.3333333333333333,
              "#9c179e"
             ],
             [
              0.4444444444444444,
              "#bd3786"
             ],
             [
              0.5555555555555556,
              "#d8576b"
             ],
             [
              0.6666666666666666,
              "#ed7953"
             ],
             [
              0.7777777777777778,
              "#fb9f3a"
             ],
             [
              0.8888888888888888,
              "#fdca26"
             ],
             [
              1,
              "#f0f921"
             ]
            ],
            "type": "surface"
           }
          ],
          "table": [
           {
            "cells": {
             "fill": {
              "color": "#EBF0F8"
             },
             "line": {
              "color": "white"
             }
            },
            "header": {
             "fill": {
              "color": "#C8D4E3"
             },
             "line": {
              "color": "white"
             }
            },
            "type": "table"
           }
          ]
         },
         "layout": {
          "annotationdefaults": {
           "arrowcolor": "#2a3f5f",
           "arrowhead": 0,
           "arrowwidth": 1
          },
          "autotypenumbers": "strict",
          "coloraxis": {
           "colorbar": {
            "outlinewidth": 0,
            "ticks": ""
           }
          },
          "colorscale": {
           "diverging": [
            [
             0,
             "#8e0152"
            ],
            [
             0.1,
             "#c51b7d"
            ],
            [
             0.2,
             "#de77ae"
            ],
            [
             0.3,
             "#f1b6da"
            ],
            [
             0.4,
             "#fde0ef"
            ],
            [
             0.5,
             "#f7f7f7"
            ],
            [
             0.6,
             "#e6f5d0"
            ],
            [
             0.7,
             "#b8e186"
            ],
            [
             0.8,
             "#7fbc41"
            ],
            [
             0.9,
             "#4d9221"
            ],
            [
             1,
             "#276419"
            ]
           ],
           "sequential": [
            [
             0,
             "#0d0887"
            ],
            [
             0.1111111111111111,
             "#46039f"
            ],
            [
             0.2222222222222222,
             "#7201a8"
            ],
            [
             0.3333333333333333,
             "#9c179e"
            ],
            [
             0.4444444444444444,
             "#bd3786"
            ],
            [
             0.5555555555555556,
             "#d8576b"
            ],
            [
             0.6666666666666666,
             "#ed7953"
            ],
            [
             0.7777777777777778,
             "#fb9f3a"
            ],
            [
             0.8888888888888888,
             "#fdca26"
            ],
            [
             1,
             "#f0f921"
            ]
           ],
           "sequentialminus": [
            [
             0,
             "#0d0887"
            ],
            [
             0.1111111111111111,
             "#46039f"
            ],
            [
             0.2222222222222222,
             "#7201a8"
            ],
            [
             0.3333333333333333,
             "#9c179e"
            ],
            [
             0.4444444444444444,
             "#bd3786"
            ],
            [
             0.5555555555555556,
             "#d8576b"
            ],
            [
             0.6666666666666666,
             "#ed7953"
            ],
            [
             0.7777777777777778,
             "#fb9f3a"
            ],
            [
             0.8888888888888888,
             "#fdca26"
            ],
            [
             1,
             "#f0f921"
            ]
           ]
          },
          "colorway": [
           "#636efa",
           "#EF553B",
           "#00cc96",
           "#ab63fa",
           "#FFA15A",
           "#19d3f3",
           "#FF6692",
           "#B6E880",
           "#FF97FF",
           "#FECB52"
          ],
          "font": {
           "color": "#2a3f5f"
          },
          "geo": {
           "bgcolor": "white",
           "lakecolor": "white",
           "landcolor": "#E5ECF6",
           "showlakes": true,
           "showland": true,
           "subunitcolor": "white"
          },
          "hoverlabel": {
           "align": "left"
          },
          "hovermode": "closest",
          "mapbox": {
           "style": "light"
          },
          "paper_bgcolor": "white",
          "plot_bgcolor": "#E5ECF6",
          "polar": {
           "angularaxis": {
            "gridcolor": "white",
            "linecolor": "white",
            "ticks": ""
           },
           "bgcolor": "#E5ECF6",
           "radialaxis": {
            "gridcolor": "white",
            "linecolor": "white",
            "ticks": ""
           }
          },
          "scene": {
           "xaxis": {
            "backgroundcolor": "#E5ECF6",
            "gridcolor": "white",
            "gridwidth": 2,
            "linecolor": "white",
            "showbackground": true,
            "ticks": "",
            "zerolinecolor": "white"
           },
           "yaxis": {
            "backgroundcolor": "#E5ECF6",
            "gridcolor": "white",
            "gridwidth": 2,
            "linecolor": "white",
            "showbackground": true,
            "ticks": "",
            "zerolinecolor": "white"
           },
           "zaxis": {
            "backgroundcolor": "#E5ECF6",
            "gridcolor": "white",
            "gridwidth": 2,
            "linecolor": "white",
            "showbackground": true,
            "ticks": "",
            "zerolinecolor": "white"
           }
          },
          "shapedefaults": {
           "line": {
            "color": "#2a3f5f"
           }
          },
          "ternary": {
           "aaxis": {
            "gridcolor": "white",
            "linecolor": "white",
            "ticks": ""
           },
           "baxis": {
            "gridcolor": "white",
            "linecolor": "white",
            "ticks": ""
           },
           "bgcolor": "#E5ECF6",
           "caxis": {
            "gridcolor": "white",
            "linecolor": "white",
            "ticks": ""
           }
          },
          "title": {
           "x": 0.05
          },
          "xaxis": {
           "automargin": true,
           "gridcolor": "white",
           "linecolor": "white",
           "ticks": "",
           "title": {
            "standoff": 15
           },
           "zerolinecolor": "white",
           "zerolinewidth": 2
          },
          "yaxis": {
           "automargin": true,
           "gridcolor": "white",
           "linecolor": "white",
           "ticks": "",
           "title": {
            "standoff": 15
           },
           "zerolinecolor": "white",
           "zerolinewidth": 2
          }
         }
        }
       }
      },
      "text/html": [
       "<div>                            <div id=\"bfa06d6c-b4b1-400e-8f12-3115ce0d2831\" class=\"plotly-graph-div\" style=\"height:525px; width:100%;\"></div>            <script type=\"text/javascript\">                require([\"plotly\"], function(Plotly) {                    window.PLOTLYENV=window.PLOTLYENV || {};                                    if (document.getElementById(\"bfa06d6c-b4b1-400e-8f12-3115ce0d2831\")) {                    Plotly.newPlot(                        \"bfa06d6c-b4b1-400e-8f12-3115ce0d2831\",                        [{\"lat\":[53.3479968,52.5393864,51.3614103,64.5394289,62.7645265,64.5625385,46.3655652,56.088377,54.4815311,54.734944,53.2419535,53.0599771,56.1280804,56.3327254,55.9166398,48.7070042,59.2483905,59.4758605,59.1269212,51.6593332,50.453455,42.058966,42.9849159,56.9993792,57.1025975,56.8560234,53.920693,52.2864036,43.6281516,43.4845464,43.7589602,54.6513372,54.7074702,54.9516574,54.9439286,46.0875083,46.3083344,55.1773714,55.2130096,55.0301833,54.5059848,54.0790111,55.0943144,61.7891264,55.6693513,56.0622131,58.6035264,67.4974082,61.6686617,63.5565514,57.768,44.8950433,44.5630007,46.71157,45.0401604,44.7235026,43.5854551,44.1105335,56.1131564,56.0093879,44.4164605,44.6764304,45.190629,45.3562627,45.1341997,44.9482948,45.0318393,44.4953612,55.4443883,51.7303637,60.0191278,60.7130801,59.565237,59.8754216,60.044862,59.7726848,52.4874097,52.610249,59.5681332,55.7540471,55.7540471,55.796389,55.551725,55.6240869,56.3477457,55.9385999,55.4363283,56.741786,55.599803,55.7297089,55.9062267,55.102814,55.9161773,55.6597925,56.105426,55.8317203,55.5792277,56.0328881,54.9652077,55.5778163,55.676499,55.5069259,55.9105782,55.8686133,55.6789455,54.8541006,55.4389322,54.8705984,56.0103638,55.5495132,55.7582621,55.7014744,56.3062548,54.9226466,56.185102,55.810648,54.886274,56.7308564,55.9590588,55.888657,56.2516982,55.1508011,55.9233801,67.5677761,67.1567974,67.6150424,68.8786028,69.007721,55.3945814,56.2376047,56.3240627,54.9228268,58.5213846,54.7582156,55.028191,54.9848566,56.9160511,51.4649189,51.7875092,52.4284558,52.9671298,53.1753314,59.4079923,57.4283296,58.0102583,59.6482998,43.3501675,43.1164904,42.8239372,58.7432429,57.3451528,57.8194415,48.3350706,47.2094917,54.6254445,53.3800848,53.1950306,53.5205348,59.9391313,51.023541,51.533557,56.9095924,56.8385216,58.6348516,57.910126,44.6167013,54.782635,44.1320568,44.041091,45.044516,52.8912389,52.7213154,54.9014619,55.7567107,55.8466651,55.7943584,55.7270698,55.7434619,55.6313609,57.2579478,56.7275204,56.8586059,56.4845804,54.1920559,57.1529744,58.1359233,56.852738,54.3079415,63.7121099,61.3706913,61.2541083,54.9906527,55.1714905,53.4072153,55.0456457,54.0843745,55.1602624,56.1438298,62.536232,66.4071765,63.2018039,58.3620228,57.2051315,58.0485495,57.6215477,59.9391313,55.9825,59.9391313,55.80945,44.501336,55.925],\"lon\":[83.7798064,85.2138453,128.1219729,40.5169606,40.3360076,39.8180934,48.0559236,54.2483061,53.4655972,55.9578468,34.3652146,32.8468129,40.4084376,39.391336,39.1734526,44.5170339,39.8355662,40.1114187,37.9090497,39.1969229,40.136874,48.2907452,47.5047181,40.9728272,41.7298834,41.3800939,102.0491772,104.2807466,44.0517314,43.60713,44.0102409,19.9140572,20.5073241,20.2277424,20.1514295,41.935537,44.2702088,36.6566951,36.4926251,36.7394903,36.2516245,34.3076201,36.6121639,34.3596434,86.2744459,85.6207182,49.6679304,64.061034,50.8358151,53.7014239,40.927,37.3163282,38.0790852,38.2763895,38.9759647,37.7686135,39.7231548,39.0824904,94.5888103,92.8524806,34.0444797,34.4100624,33.367634,36.4674513,33.6033383,34.1001151,35.3824259,34.166308,65.3161963,36.1925603,30.6456718,28.7328336,30.1282473,30.981364,30.4571456,30.7988557,39.9331142,39.5947883,150.8084956,37.620405,37.620405,37.938283,37.7061984,37.8440276,37.526672,37.5101021,37.7664984,37.1757223,38.1224298,36.8554029,36.8601454,38.7531002,37.8545415,37.8631156,38.140838,37.3295266,38.9207723,37.4614035,39.0260266,37.9033507,37.898125,36.024043,37.7363579,38.4622104,37.263686,38.5599196,37.5703482,37.2182749,37.8471403,38.2728914,37.8618553,36.1959206,38.1502661,37.4033859,36.977631,38.175624,38.078228,37.5276003,38.0410235,37.4303702,37.9396017,37.4533252,37.9783707,33.4067929,32.4143218,33.663735,33.0262299,33.0685865,43.8408141,43.4599416,44.0053913,43.3448089,31.2755394,83.1070605,82.9211489,73.3674517,74.3649194,58.4436875,55.1018828,37.6039506,36.0696427,45.0348625,56.8039427,56.9438656,56.2342034,56.771009,132.1596175,131.8823937,132.8927361,27.8264809,28.3437593,28.3317198,39.945891,38.9350989,39.7358609,51.3438605,50.1069518,49.3894028,30.3159004,45.695044,46.034257,60.8180907,60.6054911,59.7981565,59.9812853,33.525355,32.045251,43.0306461,43.0661553,41.9689655,40.5104443,41.452264,52.2970467,52.0543794,48.5010954,49.1114975,53.1003968,52.3959165,51.8144669,37.7819693,36.8012716,35.9116761,84.9481582,37.6153842,65.5344099,52.6635038,53.2114896,48.3748487,66.6772226,63.5667222,73.3961587,57.2783953,59.6725549,58.9791437,60.1077572,61.5586831,61.4008078,47.2489782,113.9667728,112.3061555,75.4510581,40.686841,39.4378622,38.8584119,39.8977411,30.3159004,37.18139,30.3159004,37.95806,33.489023,37.9722],\"text\":[\"\\u0411\\u0430\\u0440\\u043d\\u0430\\u0443\\u043b \",\"\\u0411\\u0438\\u0439\\u0441\\u043a \",\"\\u0421\\u0432\\u043e\\u0431\\u043e\\u0434\\u043d\\u044b\\u0439 \\u041f\\u044b\\u043b\\u044c \\u041f\\u044b\\u043b\\u044c\\u0446\\u0430\",\"\\u0410\\u0440\\u0445\\u0430\\u043d\\u0433\\u0435\\u043b\\u044c\\u0441\\u043a \",\"\\u041c\\u0438\\u0440\\u043d\\u044b\\u0439 \",\"\\u0421\\u0435\\u0432\\u0435\\u0440\\u043e\\u0434\\u0432\\u0438\\u043d\\u0441\\u043a \\u041e\\u043b\\u044c\\u0445\\u0430\",\"\\u0410\\u0441\\u0442\\u0440\\u0430\\u0445\\u0430\\u043d\\u044c \",\"\\u041d\\u0435\\u0444\\u0442\\u0435\\u043a\\u0430\\u043c\\u0441\\u043a \",\"\\u041e\\u043a\\u0442\\u044f\\u0431\\u0440\\u044c\\u0441\\u043a\\u0438\\u0439 \",\"\\u0423\\u0444\\u0430 \",\"\\u0411\\u0440\\u044f\\u043d\\u0441\\u043a \\u0411\\u0435\\u0440\\u0435\\u0437\\u0430 \\u0421\\u043e\\u0441\\u043d\\u0430 \\u041f\\u044b\\u043b\\u044c\\u0446\\u0430 \\u0411\\u0435\\u0440\\u0435\\u0437\\u0430 \\u041f\\u044b\\u043b\\u044c\\u0446\\u0430 \\u0421\\u043e\\u0441\\u043d\\u0430\",\"\\u041c\\u0433\\u043b\\u0438\\u043d \",\"\\u0412\\u043b\\u0430\\u0434\\u0438\\u043c\\u0438\\u0440 \\u0411\\u0435\\u0440\\u0435\\u0437\\u0430\",\"\\u041a\\u043e\\u043b\\u044c\\u0447\\u0443\\u0433\\u0438\\u043d\\u043e \\u041f\\u044b\\u043b\\u044c\\u0446\\u0430\",\"\\u041f\\u043e\\u043a\\u0440\\u043e\\u0432 \",\"\\u0412\\u043e\\u043b\\u0433\\u043e\\u0433\\u0440\\u0430\\u0434 \\u0417\\u043b\\u0430\\u043a\\u0438\",\"\\u0412\\u043e\\u043b\\u043e\\u0433\\u0434\\u0430 \",\"\\u0421\\u043e\\u043a\\u043e\\u043b \",\"\\u0427\\u0435\\u0440\\u0435\\u043f\\u043e\\u0432\\u0435\\u0446 \\u0411\\u0435\\u0440\\u0435\\u0437\\u0430\",\"\\u0412\\u043e\\u0440\\u043e\\u043d\\u0435\\u0436 \",\"\\u041f\\u0430\\u0432\\u043b\\u043e\\u0432\\u0441\\u043a \",\"\\u0414\\u0435\\u0440\\u0431\\u0435\\u043d\\u0442 \",\"\\u041c\\u0430\\u0445\\u0430\\u0447\\u043a\\u0430\\u043b\\u0430 \\u0411\\u0435\\u0440\\u0435\\u0437\\u0430\",\"\\u0418\\u0432\\u0430\\u043d\\u043e\\u0432\\u043e \\u0411\\u0435\\u0440\\u0435\\u0437\\u0430\",\"\\u0420\\u043e\\u0434\\u043d\\u0438\\u043a\\u0438 \\u041f\\u044b\\u043b\\u044c\\u0446\\u0430\",\"\\u0428\\u0443\\u044f \",\"\\u0417\\u0438\\u043c\\u0430 \\u041f\\u044b\\u043b\\u044c\\u0446\\u0430\",\"\\u0418\\u0440\\u043a\\u0443\\u0442\\u0441\\u043a \",\"\\u041c\\u0430\\u0439\\u0441\\u043a\\u0438\\u0439 \\u0421\\u043e\\u0441\\u043d\\u0430\",\"\\u041d\\u0430\\u043b\\u044c\\u0447\\u0438\\u043a \",\"\\u041f\\u0440\\u043e\\u0445\\u043b\\u0430\\u0434\\u043d\\u044b\\u0439 \",\"\\u0411\\u0430\\u043b\\u0442\\u0438\\u0439\\u0441\\u043a \",\"\\u041a\\u0430\\u043b\\u0438\\u043d\\u0438\\u043d\\u0433\\u0440\\u0430\\u0434 \\u0411\\u0435\\u0440\\u0435\\u0437\\u0430\",\"\\u041f\\u0438\\u043e\\u043d\\u0435\\u0440\\u0441\\u043a\\u0438\\u0439 \",\"\\u0421\\u0432\\u0435\\u0442\\u043b\\u043e\\u0433\\u043e\\u0440\\u0441\\u043a \\u0411\\u0435\\u0440\\u0435\\u0437\\u0430\",\"\\u0413\\u043e\\u0440\\u043e\\u0434\\u043e\\u0432\\u0438\\u043a\\u043e\\u0432\\u0441\\u043a \\u0411\\u0435\\u0440\\u0435\\u0437\\u0430 \\u041e\\u043b\\u044c\\u0445\\u0430 \\u041b\\u0435\\u0449\\u0438\\u043d\\u0430\",\"\\u042d\\u043b\\u0438\\u0441\\u0442\\u0430 \",\"\\u0411\\u0430\\u043b\\u0430\\u0431\\u0430\\u043d\\u043e\\u0432\\u043e \",\"\\u0411\\u043e\\u0440\\u043e\\u0432\\u0441\\u043a \\u0411\\u0435\\u0440\\u0435\\u0437\\u0430\",\"\\u0416\\u0443\\u043a\\u043e\\u0432 \",\"\\u041a\\u0430\\u043b\\u0443\\u0433\\u0430 \",\"\\u041a\\u0438\\u0440\\u043e\\u0432 \\u0411\\u0435\\u0440\\u0435\\u0437\\u0430 \\u0411\\u0435\\u0440\\u0435\\u0437\\u0430\",\"\\u041e\\u0431\\u043d\\u0438\\u043d\\u0441\\u043a \",\"\\u041f\\u0435\\u0442\\u0440\\u043e\\u0437\\u0430\\u0432\\u043e\\u0434\\u0441\\u043a \\u041f\\u044b\\u043b\\u044c\\u0446\\u0430\",\"\\u0411\\u0435\\u0440\\u0435\\u0437\\u043e\\u0432\\u0441\\u043a\\u0438\\u0439 \",\"\\u0422\\u0430\\u0439\\u0433\\u0430 \\u041a\\u0440\\u0430\\u043f\\u0438\\u0432\\u0430\",\"\\u041a\\u0438\\u0440\\u043e\\u0432 \\u0411\\u0435\\u0440\\u0435\\u0437\\u0430 \\u0411\\u0435\\u0440\\u0435\\u0437\\u0430\",\"\\u0412\\u043e\\u0440\\u043a\\u0443\\u0442\\u0430 \",\"\\u0421\\u044b\\u043a\\u0442\\u044b\\u0432\\u043a\\u0430\\u0440 \\u0411\\u0435\\u0440\\u0435\\u0437\\u0430\",\"\\u0423\\u0445\\u0442\\u0430 \",\"\\u041a\\u043e\\u0441\\u0442\\u0440\\u043e\\u043c\\u0430 \\u0417\\u043b\\u0430\\u043a\\u0438\",\"\\u0410\\u043d\\u0430\\u043f\\u0430 \",\"\\u0413\\u0435\\u043b\\u0435\\u043d\\u0434\\u0436\\u0438\\u043a \\u0411\\u0435\\u0440\\u0435\\u0437\\u0430 \\u041f\\u044b\\u043b\\u044c\\u0446\\u0430 \\u0411\\u0435\\u0440\\u0435\\u0437\\u0430 \\u041f\\u044b\\u043b\\u044c\\u0446\\u0430\",\"\\u0415\\u0439\\u0441\\u043a \",\"\\u041a\\u0440\\u0430\\u0441\\u043d\\u043e\\u0434\\u0430\\u0440 \",\"\\u041d\\u043e\\u0432\\u043e\\u0440\\u043e\\u0441\\u0441\\u0438\\u0439\\u0441\\u043a \",\"\\u0421\\u043e\\u0447\\u0438 \\u0417\\u043b\\u0430\\u043a\\u0438\",\"\\u0422\\u0443\\u0430\\u043f\\u0441\\u0435 \",\"\\u0417\\u0435\\u043b\\u0435\\u043d\\u043e\\u0433\\u043e\\u0440\\u0441\\u043a \",\"\\u041a\\u0440\\u0430\\u0441\\u043d\\u043e\\u044f\\u0440\\u0441\\u043a \",\"\\u042f\\u043b\\u0442\\u0430 \",\"\\u0410\\u043b\\u0443\\u0448\\u0442\\u0430 \\u0410\\u043c\\u0431\\u0440\\u043e\\u0437\\u0438\\u044f\",\"\\u0415\\u0432\\u043f\\u0430\\u0442\\u043e\\u0440\\u0438\\u044f \",\"\\u041a\\u0435\\u0440\\u0447\\u044c \",\"\\u0421\\u0430\\u043a\\u0438 \",\"\\u0421\\u0438\\u043c\\u0444\\u0435\\u0440\\u043e\\u043f\\u043e\\u043b\\u044c \",\"\\u0424\\u0435\\u043e\\u0434\\u043e\\u0441\\u0438\\u044f \\u041f\\u043e\\u043b\\u044b\\u043d\\u044c\",\"\\u042f\\u043b\\u0442\\u0430 \",\"\\u041a\\u0443\\u0440\\u0433\\u0430\\u043d \",\"\\u041a\\u0443\\u0440\\u0441\\u043a \",\"\\u0412\\u0441\\u0435\\u0432\\u043e\\u043b\\u043e\\u0436\\u0441\\u043a \",\"\\u0412\\u044b\\u0431\\u043e\\u0440\\u0433 \",\"\\u0413\\u0430\\u0442\\u0447\\u0438\\u043d\\u0430 \",\"\\u041a\\u0438\\u0440\\u043e\\u0432\\u0441\\u043a \\u041e\\u043b\\u044c\\u0445\\u0430 \\u041b\\u0435\\u0449\\u0438\\u043d\\u0430 \\u0411\\u0435\\u0440\\u0435\\u0437\\u0430 \\u041f\\u044b\\u043b\\u044c\\u0446\\u0430\",\"\\u041c\\u0443\\u0440\\u0438\\u043d\\u043e \",\"\\u041e\\u0442\\u0440\\u0430\\u0434\\u043d\\u043e\\u0435 \\u0411\\u0435\\u0440\\u0435\\u0437\\u0430 \\u041e\\u043b\\u044c\\u0445\\u0430 \\u041b\\u0435\\u0449\\u0438\\u043d\\u0430 \\u041e\\u043b\\u044c\\u0445\\u0430\",\"\\u0413\\u0440\\u044f\\u0437\\u0438 \\u041f\\u044b\\u043b\\u044c\",\"\\u041b\\u0438\\u043f\\u0435\\u0446\\u043a \",\"\\u041c\\u0430\\u0433\\u0430\\u0434\\u0430\\u043d \",\"\\u041c\\u043e\\u0441\\u043a\\u0432\\u0430 \",\"\\u041c\\u043e\\u0441\\u043a\\u0432\\u0430 \",\"\\u0411\\u0430\\u043b\\u0430\\u0448\\u0438\\u0445\\u0430 \",\"\\u0412\\u0438\\u0434\\u043d\\u043e\\u0435 \",\"\\u0414\\u0437\\u0435\\u0440\\u0436\\u0438\\u043d\\u0441\\u043a\\u0438\\u0439 \\u0417\\u043b\\u0430\\u043a\\u0438\",\"\\u0414\\u043c\\u0438\\u0442\\u0440\\u043e\\u0432 \\u041e\\u043b\\u044c\\u0445\\u0430 \\u0411\\u0435\\u0440\\u0435\\u0437\\u0430\",\"\\u0414\\u043e\\u043b\\u0433\\u043e\\u043f\\u0440\\u0443\\u0434\\u043d\\u044b\\u0439 \",\"\\u0414\\u043e\\u043c\\u043e\\u0434\\u0435\\u0434\\u043e\\u0432\\u043e \",\"\\u0414\\u0443\\u0431\\u043d\\u0430 \\u0411\\u0435\\u0440\\u0435\\u0437\\u0430\",\"\\u0416\\u0443\\u043a\\u043e\\u0432\\u0441\\u043a\\u0438\\u0439 \",\"\\u0417\\u0432\\u0435\\u043d\\u0438\\u0433\\u043e\\u0440\\u043e\\u0434 \",\"\\u0418\\u0441\\u0442\\u0440\\u0430 \",\"\\u041a\\u043e\\u043b\\u043e\\u043c\\u043d\\u0430 \",\"\\u041a\\u043e\\u0440\\u043e\\u043b\\u0451\\u0432 \",\"\\u041a\\u043e\\u0442\\u0435\\u043b\\u044c\\u043d\\u0438\\u043a\\u0438 \",\"\\u041a\\u0440\\u0430\\u0441\\u043d\\u043e\\u0430\\u0440\\u043c\\u0435\\u0439\\u0441\\u043a \\u041a\\u0440\\u0430\\u043f\\u0438\\u0432\\u0430 \\u041a\\u0440\\u0430\\u043f\\u0438\\u0432\\u0430 \\u041a\\u0440\\u0430\\u043f\\u0438\\u0432\\u0430 \\u041f\\u044b\\u043b\\u044c\\u0446\\u0430\",\"\\u041a\\u0440\\u0430\\u0441\\u043d\\u043e\\u0433\\u043e\\u0440\\u0441\\u043a \",\"\\u041a\\u0443\\u0440\\u043e\\u0432\\u0441\\u043a\\u043e\\u0435 \",\"\\u041b\\u043e\\u0431\\u043d\\u044f \",\"\\u041b\\u0443\\u0445\\u043e\\u0432\\u0438\\u0446\\u044b \",\"\\u041b\\u044b\\u0442\\u043a\\u0430\\u0440\\u0438\\u043d\\u043e \",\"\\u041b\\u044e\\u0431\\u0435\\u0440\\u0446\\u044b \",\"\\u041c\\u043e\\u0436\\u0430\\u0439\\u0441\\u043a \",\"\\u041c\\u044b\\u0442\\u0438\\u0449\\u0438 \",\"\\u041d\\u043e\\u0433\\u0438\\u043d\\u0441\\u043a \\u0417\\u043b\\u0430\\u043a\\u0438\",\"\\u041e\\u0434\\u0438\\u043d\\u0446\\u043e\\u0432\\u043e \",\"\\u041e\\u0437\\u0451\\u0440\\u044b \",\"\\u041f\\u043e\\u0434\\u043e\\u043b\\u044c\\u0441\\u043a \",\"\\u041f\\u0440\\u043e\\u0442\\u0432\\u0438\\u043d\\u043e \",\"\\u041f\\u0443\\u0448\\u043a\\u0438\\u043d\\u043e \",\"\\u0420\\u0430\\u043c\\u0435\\u043d\\u0441\\u043a\\u043e\\u0435 \\u0417\\u043b\\u0430\\u043a\\u0438\",\"\\u0420\\u0435\\u0443\\u0442\\u043e\\u0432 \",\"\\u0420\\u0443\\u0437\\u0430 \\u041f\\u044b\\u043b\\u044c\\u0446\\u0430 \\u041e\\u043b\\u044c\\u0445\\u0430\",\"\\u0421\\u0435\\u0440\\u0433\\u0438\\u0435\\u0432 \\u041f\\u043e\\u0441\\u0430\\u0434 \",\"\\u0421\\u0435\\u0440\\u043f\\u0443\\u0445\\u043e\\u0432 \\u0421\\u043e\\u0441\\u043d\\u0430\",\"\\u0421\\u043e\\u043b\\u043d\\u0435\\u0447\\u043d\\u043e\\u0433\\u043e\\u0440\\u0441\\u043a \",\"\\u0421\\u0442\\u0430\\u0440\\u0430\\u044f \\u041a\\u0443\\u043f\\u0430\\u0432\\u043d\\u0430 \",\"\\u0421\\u0442\\u0443\\u043f\\u0438\\u043d\\u043e \",\"\\u0422\\u0430\\u043b\\u0434\\u043e\\u043c \",\"\\u0424\\u0440\\u044f\\u0437\\u0438\\u043d\\u043e \",\"\\u0425\\u0438\\u043c\\u043a\\u0438 \",\"\\u0425\\u043e\\u0442\\u044c\\u043a\\u043e\\u0432\\u043e \\u0411\\u0435\\u0440\\u0435\\u0437\\u0430 \\u041f\\u044b\\u043b\\u044c\\u0446\\u0430\",\"\\u0427\\u0435\\u0445\\u043e\\u0432 \\u041e\\u0434\\u0443\\u0432\\u0430\\u043d\\u0447\\u0438\\u043a\",\"\\u0429\\u0451\\u043b\\u043a\\u043e\\u0432\\u043e \",\"\\u0410\\u043f\\u0430\\u0442\\u0438\\u0442\\u044b \",\"\\u041a\\u0430\\u043d\\u0434\\u0430\\u043b\\u0430\\u043a\\u0448\\u0430 \",\"\\u041a\\u0438\\u0440\\u043e\\u0432\\u0441\\u043a \\u041e\\u043b\\u044c\\u0445\\u0430 \\u041b\\u0435\\u0449\\u0438\\u043d\\u0430 \\u0411\\u0435\\u0440\\u0435\\u0437\\u0430 \\u041f\\u044b\\u043b\\u044c\\u0446\\u0430\",\"\\u041a\\u043e\\u043b\\u0430 \",\"\\u041c\\u0443\\u0440\\u043c\\u0430\\u043d\\u0441\\u043a \",\"\\u0410\\u0440\\u0437\\u0430\\u043c\\u0430\\u0441 \",\"\\u0414\\u0437\\u0435\\u0440\\u0436\\u0438\\u043d\\u0441\\u043a \",\"\\u041d\\u0438\\u0436\\u043d\\u0438\\u0439 \\u041d\\u043e\\u0432\\u0433\\u043e\\u0440\\u043e\\u0434 \",\"\\u0421\\u0430\\u0440\\u043e\\u0432 \",\"\\u0412\\u0435\\u043b\\u0438\\u043a\\u0438\\u0439 \\u041d\\u043e\\u0432\\u0433\\u043e\\u0440\\u043e\\u0434 \",\"\\u0411\\u0435\\u0440\\u0434\\u0441\\u043a \\u041f\\u044b\\u043b\\u044c\\u0446\\u0430\",\"\\u041d\\u043e\\u0432\\u043e\\u0441\\u0438\\u0431\\u0438\\u0440\\u0441\\u043a \\u041e\\u043b\\u044c\\u0445\\u0430 \\u041e\\u0440\\u0435\\u0448\\u043d\\u0438\\u043a \\u0411\\u0435\\u0440\\u0435\\u0437\\u0430 \\u0417\\u043b\\u0430\\u043a\\u0438\",\"\\u041e\\u043c\\u0441\\u043a \\u0421\\u043e\\u0440\\u043d\\u044b\\u0435 \\u0422\\u0440\\u0430\\u0432\\u044b \\u0417\\u043b\\u0430\\u043a\\u0438 \\u0411\\u0435\\u0440\\u0435\\u0437\\u0430\",\"\\u0422\\u0430\\u0440\\u0430 \",\"\\u0413\\u0430\\u0439 \",\"\\u041e\\u0440\\u0435\\u043d\\u0431\\u0443\\u0440\\u0433 \",\"\\u041b\\u0438\\u0432\\u043d\\u044b \",\"\\u041e\\u0440\\u0451\\u043b \\u041f\\u044b\\u043b\\u044c\\u0446\\u0430\",\"\\u041f\\u0435\\u043d\\u0437\\u0430 \\u0411\\u0435\\u0440\\u0435\\u0437\\u0430\",\"\\u0411\\u0435\\u0440\\u0435\\u0437\\u043d\\u0438\\u043a\\u0438 \",\"\\u041a\\u0443\\u043d\\u0433\\u0443\\u0440 \\u041f\\u044b\\u043b\\u044c\\u0446\\u0430 \\u0411\\u0435\\u0440\\u0435\\u0437\\u0430\",\"\\u041f\\u0435\\u0440\\u043c\\u044c \",\"\\u0421\\u043e\\u043b\\u0438\\u043a\\u0430\\u043c\\u0441\\u043a \",\"\\u0410\\u0440\\u0442\\u0435\\u043c \",\"\\u0412\\u043b\\u0430\\u0434\\u0438\\u0432\\u043e\\u0441\\u0442\\u043e\\u043a \",\"\\u041d\\u0430\\u0445\\u043e\\u0434\\u043a\\u0430 \",\"\\u0413\\u0434\\u043e\\u0432 \\u0411\\u0435\\u0440\\u0435\\u0437\\u0430\",\"\\u041e\\u0441\\u0442\\u0440\\u043e\\u0432 \",\"\\u041f\\u0441\\u043a\\u043e\\u0432 \\u0411\\u0435\\u0440\\u0435\\u0437\\u0430\",\"\\u0414\\u043e\\u043d\\u0435\\u0446\\u043a \",\"\\u0422\\u0430\\u0433\\u0430\\u043d\\u0440\\u043e\\u0433 \",\"\\u0420\\u044f\\u0437\\u0430\\u043d\\u044c \",\"\\u041e\\u0442\\u0440\\u0430\\u0434\\u043d\\u044b\\u0439 \",\"\\u0421\\u0430\\u043c\\u0430\\u0440\\u0430 \",\"\\u0422\\u043e\\u043b\\u044c\\u044f\\u0442\\u0442\\u0438 \",\"\\u0421\\u0430\\u043d\\u043a\\u0442-\\u041f\\u0435\\u0442\\u0435\\u0440\\u0431\\u0443\\u0440\\u0433 \\u0411\\u0435\\u0440\\u0435\\u0437\\u0430 \\u041f\\u043e\\u043b\\u044b\\u043d\\u044c\",\"\\u041a\\u0440\\u0430\\u0441\\u043d\\u043e\\u0430\\u0440\\u043c\\u0435\\u0439\\u0441\\u043a \\u041a\\u0440\\u0430\\u043f\\u0438\\u0432\\u0430 \\u041a\\u0440\\u0430\\u043f\\u0438\\u0432\\u0430 \\u041a\\u0440\\u0430\\u043f\\u0438\\u0432\\u0430 \\u041f\\u044b\\u043b\\u044c\\u0446\\u0430\",\"\\u0421\\u0430\\u0440\\u0430\\u0442\\u043e\\u0432 \",\"\\u0411\\u0435\\u0440\\u0435\\u0437\\u043e\\u0432\\u0441\\u043a\\u0438\\u0439 \",\"\\u0415\\u043a\\u0430\\u0442\\u0435\\u0440\\u0438\\u043d\\u0431\\u0443\\u0440\\u0433 \",\"\\u041b\\u0435\\u0441\\u043d\\u043e\\u0439 \",\"\\u041d\\u0438\\u0436\\u043d\\u0438\\u0439 \\u0422\\u0430\\u0433\\u0438\\u043b \\u0411\\u0435\\u0440\\u0435\\u0437\\u0430\",\"\\u0421\\u0435\\u0432\\u0430\\u0441\\u0442\\u043e\\u043f\\u043e\\u043b\\u044c \",\"\\u0421\\u043c\\u043e\\u043b\\u0435\\u043d\\u0441\\u043a \",\"\\u0416\\u0435\\u043b\\u0435\\u0437\\u043d\\u043e\\u0432\\u043e\\u0434\\u0441\\u043a \\u0411\\u0435\\u0440\\u0435\\u0437\\u0430 \\u0413\\u0440\\u0430\\u0431\",\"\\u041f\\u044f\\u0442\\u0438\\u0433\\u043e\\u0440\\u0441\\u043a \",\"\\u0421\\u0442\\u0430\\u0432\\u0440\\u043e\\u043f\\u043e\\u043b\\u044c \",\"\\u041c\\u0438\\u0447\\u0443\\u0440\\u0438\\u043d\\u0441\\u043a \\u0411\\u0435\\u0440\\u0435\\u0437\\u0430\",\"\\u0422\\u0430\\u043c\\u0431\\u043e\\u0432 \",\"\\u0410\\u043b\\u044c\\u043c\\u0435\\u0442\\u044c\\u0435\\u0432\\u0441\\u043a \",\"\\u0415\\u043b\\u0430\\u0431\\u0443\\u0433\\u0430 \\u0411\\u0435\\u0440\\u0435\\u0437\\u0430 \\u041e\\u043b\\u044c\\u0445\\u0430\",\"\\u0417\\u0435\\u043b\\u0435\\u043d\\u043e\\u0434\\u043e\\u043b\\u044c\\u0441\\u043a \",\"\\u041a\\u0430\\u0437\\u0430\\u043d\\u044c \\u041f\\u044b\\u043b\\u044c\\u0446\\u0430\",\"\\u041c\\u0435\\u043d\\u0437\\u0435\\u043b\\u0438\\u043d\\u0441\\u043a \",\"\\u041d\\u0430\\u0431\\u0435\\u0440\\u0435\\u0436\\u043d\\u044b\\u0435 \\u0427\\u0435\\u043b\\u043d\\u044b \",\"\\u041d\\u0438\\u0436\\u043d\\u0435\\u043a\\u0430\\u043c\\u0441\\u043a \",\"\\u041a\\u0430\\u043b\\u044f\\u0437\\u0438\\u043d \",\"\\u041a\\u043e\\u043d\\u0430\\u043a\\u043e\\u0432\\u043e \\u0418\\u0432\\u0430\",\"\\u0422\\u0432\\u0435\\u0440\\u044c \",\"\\u0422\\u043e\\u043c\\u0441\\u043a \",\"\\u0422\\u0443\\u043b\\u0430 \",\"\\u0422\\u044e\\u043c\\u0435\\u043d\\u044c \",\"\\u0413\\u043b\\u0430\\u0437\\u043e\\u0432 \\u0411\\u0435\\u0440\\u0435\\u0437\\u0430 \\u0411\\u0435\\u0440\\u0435\\u0437\\u0430 \\u041e\\u043b\\u044c\\u0445\\u0430\",\"\\u0418\\u0436\\u0435\\u0432\\u0441\\u043a \\u0417\\u043b\\u0430\\u043a\\u0438\",\"\\u0423\\u043b\\u044c\\u044f\\u043d\\u043e\\u0432\\u0441\\u043a \",\"\\u0411\\u0435\\u043b\\u043e\\u044f\\u0440\\u0441\\u043a\\u0438\\u0439 \\u0411\\u0435\\u0440\\u0435\\u0437\\u0430\",\"\\u0421\\u043e\\u0432\\u0435\\u0442\\u0441\\u043a\\u0438\\u0439 \",\"\\u0421\\u0443\\u0440\\u0433\\u0443\\u0442 \",\"\\u0410\\u0448\\u0430 \",\"\\u0417\\u043b\\u0430\\u0442\\u043e\\u0443\\u0441\\u0442 \",\"\\u041c\\u0430\\u0433\\u043d\\u0438\\u0442\\u043e\\u0433\\u043e\\u0440\\u0441\\u043a \",\"\\u041c\\u0438\\u0430\\u0441\\u0441 \",\"\\u0422\\u0440\\u043e\\u0438\\u0446\\u043a \",\"\\u0427\\u0435\\u043b\\u044f\\u0431\\u0438\\u043d\\u0441\\u043a \",\"\\u0427\\u0435\\u0431\\u043e\\u043a\\u0441\\u0430\\u0440\\u044b \\u0411\\u0435\\u0440\\u0435\\u0437\\u0430 \\u0417\\u043b\\u0430\\u043a\\u0438 \\u0417\\u043b\\u0430\\u043a\\u0438 \\u0411\\u0435\\u0440\\u0435\\u0437\\u0430\",\"\\u041c\\u0438\\u0440\\u043d\\u044b\\u0439 \",\"\\u0423\\u0434\\u0430\\u0447\\u043d\\u044b\\u0439 \",\"\\u041d\\u043e\\u044f\\u0431\\u0440\\u044c\\u0441\\u043a \",\"\\u041b\\u044e\\u0431\\u0438\\u043c \\u0410\\u043a\\u0430\\u0446\\u0438\\u044f\",\"\\u0420\\u043e\\u0441\\u0442\\u043e\\u0432 \",\"\\u0420\\u044b\\u0431\\u0438\\u043d\\u0441\\u043a \\u0411\\u0435\\u0440\\u0435\\u0437\\u0430\",\"\\u042f\\u0440\\u043e\\u0441\\u043b\\u0430\\u0432\\u043b\\u044c \",\"\\u0421\\u0430\\u043d\\u043a\\u0442-\\u041f\\u0435\\u0442\\u0435\\u0440\\u0431\\u0443\\u0440\\u0433 \\u0411\\u0435\\u0440\\u0435\\u0437\\u0430 \\u041f\\u043e\\u043b\\u044b\\u043d\\u044c\",\"\\u0417\\u0435\\u043b\\u0435\\u043d\\u043e\\u0433\\u0440\\u0430\\u0434 \\u0411\\u0435\\u0440\\u0435\\u0437\\u0430\",\"\\u0421\\u0430\\u043d\\u043a\\u0442-\\u041f\\u0435\\u0442\\u0435\\u0440\\u0431\\u0443\\u0440\\u0433 \\u0411\\u0435\\u0440\\u0435\\u0437\\u0430 \\u041f\\u043e\\u043b\\u044b\\u043d\\u044c\",\"\\u0411\\u0430\\u043b\\u0430\\u0448\\u0438\\u0445\\u0430 \",\"\\u041c\\u044b\\u0441 \\u0424\\u0438\\u043e\\u043b\\u0435\\u043d\\u0442 \",\"\\u0429\\u0451\\u043b\\u043a\\u043e\\u0432\\u043e \"],\"type\":\"scattermapbox\"}],                        {\"template\":{\"data\":{\"histogram2dcontour\":[{\"type\":\"histogram2dcontour\",\"colorbar\":{\"outlinewidth\":0,\"ticks\":\"\"},\"colorscale\":[[0.0,\"#0d0887\"],[0.1111111111111111,\"#46039f\"],[0.2222222222222222,\"#7201a8\"],[0.3333333333333333,\"#9c179e\"],[0.4444444444444444,\"#bd3786\"],[0.5555555555555556,\"#d8576b\"],[0.6666666666666666,\"#ed7953\"],[0.7777777777777778,\"#fb9f3a\"],[0.8888888888888888,\"#fdca26\"],[1.0,\"#f0f921\"]]}],\"choropleth\":[{\"type\":\"choropleth\",\"colorbar\":{\"outlinewidth\":0,\"ticks\":\"\"}}],\"histogram2d\":[{\"type\":\"histogram2d\",\"colorbar\":{\"outlinewidth\":0,\"ticks\":\"\"},\"colorscale\":[[0.0,\"#0d0887\"],[0.1111111111111111,\"#46039f\"],[0.2222222222222222,\"#7201a8\"],[0.3333333333333333,\"#9c179e\"],[0.4444444444444444,\"#bd3786\"],[0.5555555555555556,\"#d8576b\"],[0.6666666666666666,\"#ed7953\"],[0.7777777777777778,\"#fb9f3a\"],[0.8888888888888888,\"#fdca26\"],[1.0,\"#f0f921\"]]}],\"heatmap\":[{\"type\":\"heatmap\",\"colorbar\":{\"outlinewidth\":0,\"ticks\":\"\"},\"colorscale\":[[0.0,\"#0d0887\"],[0.1111111111111111,\"#46039f\"],[0.2222222222222222,\"#7201a8\"],[0.3333333333333333,\"#9c179e\"],[0.4444444444444444,\"#bd3786\"],[0.5555555555555556,\"#d8576b\"],[0.6666666666666666,\"#ed7953\"],[0.7777777777777778,\"#fb9f3a\"],[0.8888888888888888,\"#fdca26\"],[1.0,\"#f0f921\"]]}],\"heatmapgl\":[{\"type\":\"heatmapgl\",\"colorbar\":{\"outlinewidth\":0,\"ticks\":\"\"},\"colorscale\":[[0.0,\"#0d0887\"],[0.1111111111111111,\"#46039f\"],[0.2222222222222222,\"#7201a8\"],[0.3333333333333333,\"#9c179e\"],[0.4444444444444444,\"#bd3786\"],[0.5555555555555556,\"#d8576b\"],[0.6666666666666666,\"#ed7953\"],[0.7777777777777778,\"#fb9f3a\"],[0.8888888888888888,\"#fdca26\"],[1.0,\"#f0f921\"]]}],\"contourcarpet\":[{\"type\":\"contourcarpet\",\"colorbar\":{\"outlinewidth\":0,\"ticks\":\"\"}}],\"contour\":[{\"type\":\"contour\",\"colorbar\":{\"outlinewidth\":0,\"ticks\":\"\"},\"colorscale\":[[0.0,\"#0d0887\"],[0.1111111111111111,\"#46039f\"],[0.2222222222222222,\"#7201a8\"],[0.3333333333333333,\"#9c179e\"],[0.4444444444444444,\"#bd3786\"],[0.5555555555555556,\"#d8576b\"],[0.6666666666666666,\"#ed7953\"],[0.7777777777777778,\"#fb9f3a\"],[0.8888888888888888,\"#fdca26\"],[1.0,\"#f0f921\"]]}],\"surface\":[{\"type\":\"surface\",\"colorbar\":{\"outlinewidth\":0,\"ticks\":\"\"},\"colorscale\":[[0.0,\"#0d0887\"],[0.1111111111111111,\"#46039f\"],[0.2222222222222222,\"#7201a8\"],[0.3333333333333333,\"#9c179e\"],[0.4444444444444444,\"#bd3786\"],[0.5555555555555556,\"#d8576b\"],[0.6666666666666666,\"#ed7953\"],[0.7777777777777778,\"#fb9f3a\"],[0.8888888888888888,\"#fdca26\"],[1.0,\"#f0f921\"]]}],\"mesh3d\":[{\"type\":\"mesh3d\",\"colorbar\":{\"outlinewidth\":0,\"ticks\":\"\"}}],\"scatter\":[{\"fillpattern\":{\"fillmode\":\"overlay\",\"size\":10,\"solidity\":0.2},\"type\":\"scatter\"}],\"parcoords\":[{\"type\":\"parcoords\",\"line\":{\"colorbar\":{\"outlinewidth\":0,\"ticks\":\"\"}}}],\"scatterpolargl\":[{\"type\":\"scatterpolargl\",\"marker\":{\"colorbar\":{\"outlinewidth\":0,\"ticks\":\"\"}}}],\"bar\":[{\"error_x\":{\"color\":\"#2a3f5f\"},\"error_y\":{\"color\":\"#2a3f5f\"},\"marker\":{\"line\":{\"color\":\"#E5ECF6\",\"width\":0.5},\"pattern\":{\"fillmode\":\"overlay\",\"size\":10,\"solidity\":0.2}},\"type\":\"bar\"}],\"scattergeo\":[{\"type\":\"scattergeo\",\"marker\":{\"colorbar\":{\"outlinewidth\":0,\"ticks\":\"\"}}}],\"scatterpolar\":[{\"type\":\"scatterpolar\",\"marker\":{\"colorbar\":{\"outlinewidth\":0,\"ticks\":\"\"}}}],\"histogram\":[{\"marker\":{\"pattern\":{\"fillmode\":\"overlay\",\"size\":10,\"solidity\":0.2}},\"type\":\"histogram\"}],\"scattergl\":[{\"type\":\"scattergl\",\"marker\":{\"colorbar\":{\"outlinewidth\":0,\"ticks\":\"\"}}}],\"scatter3d\":[{\"type\":\"scatter3d\",\"line\":{\"colorbar\":{\"outlinewidth\":0,\"ticks\":\"\"}},\"marker\":{\"colorbar\":{\"outlinewidth\":0,\"ticks\":\"\"}}}],\"scattermapbox\":[{\"type\":\"scattermapbox\",\"marker\":{\"colorbar\":{\"outlinewidth\":0,\"ticks\":\"\"}}}],\"scatterternary\":[{\"type\":\"scatterternary\",\"marker\":{\"colorbar\":{\"outlinewidth\":0,\"ticks\":\"\"}}}],\"scattercarpet\":[{\"type\":\"scattercarpet\",\"marker\":{\"colorbar\":{\"outlinewidth\":0,\"ticks\":\"\"}}}],\"carpet\":[{\"aaxis\":{\"endlinecolor\":\"#2a3f5f\",\"gridcolor\":\"white\",\"linecolor\":\"white\",\"minorgridcolor\":\"white\",\"startlinecolor\":\"#2a3f5f\"},\"baxis\":{\"endlinecolor\":\"#2a3f5f\",\"gridcolor\":\"white\",\"linecolor\":\"white\",\"minorgridcolor\":\"white\",\"startlinecolor\":\"#2a3f5f\"},\"type\":\"carpet\"}],\"table\":[{\"cells\":{\"fill\":{\"color\":\"#EBF0F8\"},\"line\":{\"color\":\"white\"}},\"header\":{\"fill\":{\"color\":\"#C8D4E3\"},\"line\":{\"color\":\"white\"}},\"type\":\"table\"}],\"barpolar\":[{\"marker\":{\"line\":{\"color\":\"#E5ECF6\",\"width\":0.5},\"pattern\":{\"fillmode\":\"overlay\",\"size\":10,\"solidity\":0.2}},\"type\":\"barpolar\"}],\"pie\":[{\"automargin\":true,\"type\":\"pie\"}]},\"layout\":{\"autotypenumbers\":\"strict\",\"colorway\":[\"#636efa\",\"#EF553B\",\"#00cc96\",\"#ab63fa\",\"#FFA15A\",\"#19d3f3\",\"#FF6692\",\"#B6E880\",\"#FF97FF\",\"#FECB52\"],\"font\":{\"color\":\"#2a3f5f\"},\"hovermode\":\"closest\",\"hoverlabel\":{\"align\":\"left\"},\"paper_bgcolor\":\"white\",\"plot_bgcolor\":\"#E5ECF6\",\"polar\":{\"bgcolor\":\"#E5ECF6\",\"angularaxis\":{\"gridcolor\":\"white\",\"linecolor\":\"white\",\"ticks\":\"\"},\"radialaxis\":{\"gridcolor\":\"white\",\"linecolor\":\"white\",\"ticks\":\"\"}},\"ternary\":{\"bgcolor\":\"#E5ECF6\",\"aaxis\":{\"gridcolor\":\"white\",\"linecolor\":\"white\",\"ticks\":\"\"},\"baxis\":{\"gridcolor\":\"white\",\"linecolor\":\"white\",\"ticks\":\"\"},\"caxis\":{\"gridcolor\":\"white\",\"linecolor\":\"white\",\"ticks\":\"\"}},\"coloraxis\":{\"colorbar\":{\"outlinewidth\":0,\"ticks\":\"\"}},\"colorscale\":{\"sequential\":[[0.0,\"#0d0887\"],[0.1111111111111111,\"#46039f\"],[0.2222222222222222,\"#7201a8\"],[0.3333333333333333,\"#9c179e\"],[0.4444444444444444,\"#bd3786\"],[0.5555555555555556,\"#d8576b\"],[0.6666666666666666,\"#ed7953\"],[0.7777777777777778,\"#fb9f3a\"],[0.8888888888888888,\"#fdca26\"],[1.0,\"#f0f921\"]],\"sequentialminus\":[[0.0,\"#0d0887\"],[0.1111111111111111,\"#46039f\"],[0.2222222222222222,\"#7201a8\"],[0.3333333333333333,\"#9c179e\"],[0.4444444444444444,\"#bd3786\"],[0.5555555555555556,\"#d8576b\"],[0.6666666666666666,\"#ed7953\"],[0.7777777777777778,\"#fb9f3a\"],[0.8888888888888888,\"#fdca26\"],[1.0,\"#f0f921\"]],\"diverging\":[[0,\"#8e0152\"],[0.1,\"#c51b7d\"],[0.2,\"#de77ae\"],[0.3,\"#f1b6da\"],[0.4,\"#fde0ef\"],[0.5,\"#f7f7f7\"],[0.6,\"#e6f5d0\"],[0.7,\"#b8e186\"],[0.8,\"#7fbc41\"],[0.9,\"#4d9221\"],[1,\"#276419\"]]},\"xaxis\":{\"gridcolor\":\"white\",\"linecolor\":\"white\",\"ticks\":\"\",\"title\":{\"standoff\":15},\"zerolinecolor\":\"white\",\"automargin\":true,\"zerolinewidth\":2},\"yaxis\":{\"gridcolor\":\"white\",\"linecolor\":\"white\",\"ticks\":\"\",\"title\":{\"standoff\":15},\"zerolinecolor\":\"white\",\"automargin\":true,\"zerolinewidth\":2},\"scene\":{\"xaxis\":{\"backgroundcolor\":\"#E5ECF6\",\"gridcolor\":\"white\",\"linecolor\":\"white\",\"showbackground\":true,\"ticks\":\"\",\"zerolinecolor\":\"white\",\"gridwidth\":2},\"yaxis\":{\"backgroundcolor\":\"#E5ECF6\",\"gridcolor\":\"white\",\"linecolor\":\"white\",\"showbackground\":true,\"ticks\":\"\",\"zerolinecolor\":\"white\",\"gridwidth\":2},\"zaxis\":{\"backgroundcolor\":\"#E5ECF6\",\"gridcolor\":\"white\",\"linecolor\":\"white\",\"showbackground\":true,\"ticks\":\"\",\"zerolinecolor\":\"white\",\"gridwidth\":2}},\"shapedefaults\":{\"line\":{\"color\":\"#2a3f5f\"}},\"annotationdefaults\":{\"arrowcolor\":\"#2a3f5f\",\"arrowhead\":0,\"arrowwidth\":1},\"geo\":{\"bgcolor\":\"white\",\"landcolor\":\"#E5ECF6\",\"subunitcolor\":\"white\",\"showland\":true,\"showlakes\":true,\"lakecolor\":\"white\"},\"title\":{\"x\":0.05},\"mapbox\":{\"style\":\"light\"}}},\"mapbox\":{\"style\":\"open-street-map\",\"center\":{\"lat\":55.5333435,\"lon\":85.3612764},\"zoom\":2}},                        {\"responsive\": true}                    ).then(function(){\n",
       "                            \n",
       "var gd = document.getElementById('bfa06d6c-b4b1-400e-8f12-3115ce0d2831');\n",
       "var x = new MutationObserver(function (mutations, observer) {{\n",
       "        var display = window.getComputedStyle(gd).display;\n",
       "        if (!display || display === 'none') {{\n",
       "            console.log([gd, 'removed!']);\n",
       "            Plotly.purge(gd);\n",
       "            observer.disconnect();\n",
       "        }}\n",
       "}});\n",
       "\n",
       "// Listen for the removal of the full notebook cells\n",
       "var notebookContainer = gd.closest('#notebook-container');\n",
       "if (notebookContainer) {{\n",
       "    x.observe(notebookContainer, {childList: true});\n",
       "}}\n",
       "\n",
       "// Listen for the clearing of the current output cell\n",
       "var outputEl = gd.closest('.output');\n",
       "if (outputEl) {{\n",
       "    x.observe(outputEl, {childList: true});\n",
       "}}\n",
       "\n",
       "                        })                };                });            </script>        </div>"
      ]
     },
     "metadata": {},
     "output_type": "display_data"
    }
   ],
   "source": [
    "import plotly\n",
    "import plotly.graph_objs as go\n",
    "fig = go.Figure(go.Scattermapbox(lat=city['geo_lat'], lon=city['geo_lon'], text=city['city'] + ' ' + city['allergens']))\n",
    "map_center = go.layout.mapbox.Center(lat=(city['geo_lat'].max()+city['geo_lat'].min())/2, \n",
    "                                     lon=(city['geo_lon'].max()+city['geo_lon'].min())/2)\n",
    "fig.update_layout(mapbox_style=\"open-street-map\",\n",
    "                  mapbox=dict(center=map_center, zoom=2))\n",
    "fig.show()"
   ]
  },
  {
   "cell_type": "markdown",
   "id": "089fb1ee",
   "metadata": {},
   "source": [
    "### Вывод"
   ]
  },
  {
   "cell_type": "markdown",
   "id": "ee6cda27",
   "metadata": {},
   "source": [
    "Мы обучили модель. И сопоставили предсказания модели с географическими координатами городо. Затем отобразили результат на карте.  Итоговые метрики модели:\n",
    "\n",
    " - Best F1_Score 0.8823529411764707\n",
    " - Best precision_score 0.8898305084745762\n",
    " - Best recall_score 0.875\n",
    "\n",
    "Модель предсказывает факт наличия у людей аллергии в 87,5 процентах случаев. На основании предсказаний модели мы выводим карту с названиями городов и найденными аллергенами. К сожалению люди указывая на алергию не всегда указывают аллерген, поэтому в некоторых местах есть только название города, без списка аллергенов.\n",
    "\n",
    "Модель можно дополнительно улучшить:\n",
    " - работа со спиками городов, округов, районов, областе, аллергенов, частей тела, лекарств, негативных и позитивных высказываний.\n",
    " - дополнительнаяя токенизация сообщений в рамках модели CatBoostClassifier с чисткой стоп слов\n",
    "\n",
    "Возможна выгрузка сообщений прямо из группы с использованием библиотеки VK\n",
    "Как интересная идея возможно будет лучше использовать телеграм бота, который будет по расписанию опрашивать людей про самочуствие и на основании опросов присылать прогнозы. Их точность и полнота вероятно могут быть лучше."
   ]
  }
 ],
 "metadata": {
  "kernelspec": {
   "display_name": "Python 3 (ipykernel)",
   "language": "python",
   "name": "python3"
  },
  "language_info": {
   "codemirror_mode": {
    "name": "ipython",
    "version": 3
   },
   "file_extension": ".py",
   "mimetype": "text/x-python",
   "name": "python",
   "nbconvert_exporter": "python",
   "pygments_lexer": "ipython3",
   "version": "3.9.7"
  }
 },
 "nbformat": 4,
 "nbformat_minor": 5
}
